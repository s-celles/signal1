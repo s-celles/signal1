{
 "cells": [
  {
   "cell_type": "markdown",
   "metadata": {},
   "source": [
    "# Exercice (intercorrélation)"
   ]
  },
  {
   "cell_type": "markdown",
   "metadata": {},
   "source": [
    "**Exercice 1**\n",
    "\n",
    "Montrez que l'autocorrélation d'un signal périodique est également périodique et de même période."
   ]
  },
  {
   "cell_type": "markdown",
   "metadata": {},
   "source": [
    "**Exercice 2**\n",
    "\n",
    "Démontrez que le maximum de l'autocorrélation est en 0."
   ]
  },
  {
   "cell_type": "markdown",
   "metadata": {},
   "source": [
    "**Exercice 3**\n",
    "\n",
    "Calculez l'autocorrélation du signal ci-dessous, puis représentez-la pour $N=2$.\n",
    "\n",
    "$$\n",
    "x[n] =\n",
    "\\begin{cases}\n",
    "  1 \\quad&\\text{si } -N \\leq n \\leq N \\\\\n",
    "  0 \\quad&\\text{sinon} \\\\\n",
    "\\end{cases}\n",
    "\\quad\\text{où}\\, N\\in\\mathbb{N}.\n",
    "$$"
   ]
  },
  {
   "cell_type": "markdown",
   "metadata": {},
   "source": [
    "**Exercice 4**\n",
    "\n",
    "<!-- Proakis, exo 2.61 -->\n",
    "\n",
    "Un signal audio $s(t)$ est émis par un haut-parleur et un microphone enregistre le signal reçu $x(t)$.\n",
    "Ce signal $x(t)$ est la somme du son provenant directement du haut-parleur ainsi que du son réfléchi par un mur :\n",
    "\n",
    "$$\n",
    "x(t) = s(t) + a\\,s(t-d)\n",
    "$$\n",
    "\n",
    "où $a$ est l'atténuation et $d$ le retard dus à la réflexion sur le mur.\n",
    "\n",
    "```{figure} _static/figs/echo.png\n",
    "---\n",
    "height: 60px\n",
    "name: F:td2:echo\n",
    "```\n",
    "\n",
    "1. Déterminez l'autocorrélation de $x(t)$ en fonction de l'autocorrélation de $s(t)$.\n",
    "1. Comment peut-on obtenir $a$ et $d$ à partir de l'autocorrélation ?"
   ]
  }
 ],
 "metadata": {
  "kernelspec": {
   "display_name": "Python 3",
   "language": "python",
   "name": "python3"
  },
  "language_info": {
   "codemirror_mode": {
    "name": "ipython",
    "version": 3
   },
   "file_extension": ".py",
   "mimetype": "text/x-python",
   "name": "python",
   "nbconvert_exporter": "python",
   "pygments_lexer": "ipython3",
   "version": "3.7.2"
  }
 },
 "nbformat": 4,
 "nbformat_minor": 4
}
