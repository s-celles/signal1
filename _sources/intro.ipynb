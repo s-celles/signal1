{
 "cells": [
  {
   "cell_type": "markdown",
   "metadata": {},
   "source": [
    "# Introduction\n",
    "\n",
    "Ce manuel est le support du cours de Traitement du signal de la formation en alternance FIP de [Télécom Physique Strasbourg](http://www.telecom-physique.fr/). Il correspond au cours de première année, le cours de deuxième année est accessible dans un [autre manuel](https://vincmazet.github.io/signal2/). Ce cours est accompagné d'une [page Moodle](https://moodle3.unistra.fr/course/view.php?id=13717) (accessible uniquement pour mes étudiants). Pour compléter le cours, je vous conseille de lire les documents listés dans les {ref}`C:biblio`.\n",
    "\n",
    "Ce cours est accompagné d'exercices théoriques (à faire sur feuille) et pratiques (programmation en Python). Une aide sur l'installation de Python et son utilisation est disponible sur la page {ref}`C:python`.\n",
    "\n",
    "## Qu'est-ce que le traitement du signal ?\n",
    "\n",
    "Dans ce cours, on appelle _signal_ toute grandeur qui contient l'information issue d'un phénomène physique. Les _traitements_ qu'on peut faire sur un signal sont nombreux : on peut l'analyser, le détecter, le mesurer, le filtrer, le synthétiser, le coder, le stocker, etc.\n",
    "\n",
    "Ainsi, toute quantité physique qui varie est potentiellement un signal, qu'il soit électrique, médical, sismique, sonore, de télécommunications, etc.\n",
    "\n",
    "Le traitement du signal est une discipline récente qui est née à la fin des années 1940 avec l'invention des radars et des ordinateurs, et la naissance de la théorie de l'information. Les années 1950 vont également développer cette discipline grâce à la conquête spatiale (et ses besoins en imagerie et communications) et la création du premier circuit intégré en 1958. Petit à petit, le traitement du signal a permis la naissance du traitement d'images et ces deux disciplines se sont de plus en plus montrées utilies pour l'industrie. Des progrès techniques comme le microprocesseur ou l'algorithme FFT ont également accéléré l'essort de ces discplines. Parmi les applications grand public, citons la modification des signaux musicaux, l'imagerie médicale, la compression de données, l'analyse automatique d'ECG ou de signaux sismiques, ou encore l'analyse vibratoire sur les machines tournantes.\n",
    "\n",
    "Le traitement du signal est à cheval sur plusieurs disciplines : les mathématiques (pour les modèles et les preuves), la physique (pour la modélisation des lois naturelles et les applications) et l'informatique et l'électronique (pour la mise en œuvre des méthodes développées).\n",
    "\n",
    "% Mindmap ?"
   ]
  }
 ],
 "metadata": {
  "kernelspec": {
   "display_name": "Python 3",
   "language": "python",
   "name": "python3"
  },
  "language_info": {
   "codemirror_mode": {
    "name": "ipython",
    "version": 3
   },
   "file_extension": ".py",
   "mimetype": "text/x-python",
   "name": "python",
   "nbconvert_exporter": "python",
   "pygments_lexer": "ipython3",
   "version": "3.7.3"
  },
  "widgets": {
   "application/vnd.jupyter.widget-state+json": {
    "state": {},
    "version_major": 2,
    "version_minor": 0
   }
  }
 },
 "nbformat": 4,
 "nbformat_minor": 4
}
