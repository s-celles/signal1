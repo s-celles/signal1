{
 "cells": [
  {
   "cell_type": "markdown",
   "metadata": {},
   "source": [
    "# Propriétés des transformations de Fourier\n",
    "\n",
    "<!-- ... et phénomène de Gibbs\n",
    "\n",
    "peut être, pour la table des matières, faire deux chapitre :\n",
    "1. Transformations de Fourier (juste l'aspect mathématique et calculatoire)\n",
    "2. Analyse de Fourier (comprendre les fréquences, propriétés, temps-fréquence)\n",
    "\n",
    "Le seul intérêt est d'avoir un emploi du temps plus clair car il est contruit sur les chapitres. -->"
   ]
  }
 ],
 "metadata": {
  "kernelspec": {
   "display_name": "Python 3",
   "language": "python",
   "name": "python3"
  },
  "language_info": {
   "codemirror_mode": {
    "name": "ipython",
    "version": 3
   },
   "file_extension": ".py",
   "mimetype": "text/x-python",
   "name": "python",
   "nbconvert_exporter": "python",
   "pygments_lexer": "ipython3",
   "version": "3.7.2"
  },
  "widgets": {
   "application/vnd.jupyter.widget-state+json": {
    "state": {},
    "version_major": 2,
    "version_minor": 0
   }
  }
 },
 "nbformat": 4,
 "nbformat_minor": 4
}
