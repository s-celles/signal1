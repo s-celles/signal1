{
 "cells": [
  {
   "cell_type": "markdown",
   "metadata": {},
   "source": [
    "# Propriétés des transformations de Fourier"
   ]
  },
  {
   "cell_type": "markdown",
   "metadata": {},
   "source": [
    "## Propriétés générales\n",
    "\n",
    "Dans cette section, $x$ et $y$ représentent deux signaux temporels\n",
    "dont les transformations de Fourier sont notées respectivement $X$ et $Y$.\n",
    "Si le signal $x$ est périodique, sa période est notée $T$ (dans le cas discret) ou $N$ (dans le cas continu).\n",
    "Par ailleurs, on dispose des constantes $a, b \\in \\mathbb{C}$, $\\alpha,\\, t_0,\\, f_0 \\in \\mathbb{R}$ et $M\\in \\mathbb{N}$.\n",
    "On note $\\mathcal{F}$ l'une des quatre transformation de Fourier.\n",
    "Les propriétés ci-dessous sont communes à toutes les transformations de Fourier, sauf mention contraire.\n",
    "\n",
    "\n",
    "### Linéarité\n",
    "\n",
    "Les transformations de Fourier sont linéaires :\n",
    "\n",
    "$$\n",
    "ax+by \\quad\\xrightarrow{\\;\\mathcal{F}\\;}\\quad aX+bY\n",
    "$$\n",
    "\n",
    "\n",
    "### Convolution\n",
    "    \n",
    "La convolution dans un domaine correspond à une multiplication dans l'autre domaine :\n",
    "\n",
    "$$\n",
    "x \\cdot y \\quad\\xrightarrow{\\;\\mathcal{F}\\;}\\quad X*Y \\\\\n",
    "x*y \\quad\\xrightarrow{\\;\\mathcal{F}\\;}\\quad X \\cdot Y\n",
    "$$\n",
    "\n",
    "\n",
    "### Changement d'échelle\n",
    "\n",
    "Pour la transformée de Fourier, la contraction dans un domaine correspond à une dilatation dans l'autre domaine\n",
    "(en temporel, le signal est comprimé si $\\alpha>1$ et dilaté si $0<\\alpha<1$) :\n",
    "\n",
    "$$\n",
    "x(\\alpha t) \\quad\\xrightarrow{\\;\\mathcal{F}\\;}\\quad \\frac{1}{|\\alpha|} X\\left(\\frac{f}{\\alpha}\\right)\n",
    "$$\n",
    "\n",
    "Pour la série de Fourier, la contraction ou la dilatation n'a aucun impact sur le résultat,\n",
    "car la série de Fourier est indépendante de la valeur de la période du signal.\n",
    "\n",
    "En temps discret, le principe de multiplication de la variable temporelle par une constante n'est pas possible.\n",
    "\n",
    "\n",
    "### Translation\n",
    "\n",
    "La translation dans un domaine correspond à une multiplication par une exponentielle complexe dans l'autre domaine :\n",
    "\n",
    "* Translation en temporel :\n",
    "\n",
    "$$\n",
    "\\text{SF :}\\qquad  x(t-t_0) \\quad&\\xrightarrow{\\;\\mathcal{F}\\;}\\quad X[k] e^{-j2\\pi k t_0 / T} \\\\\n",
    "\\text{TF :}\\qquad  x(t-t_0) \\quad&\\xrightarrow{\\;\\mathcal{F}\\;}\\quad X(f) e^{-j2\\pi f t_0} \\\\\n",
    "\\text{SFD :}\\qquad x[n-n_0] \\quad&\\xrightarrow{\\;\\mathcal{F}\\;}\\quad X[k] e^{-j2\\pi k n_0 / N}\n",
    "$$\n",
    "\n",
    "\n",
    "* Translation en fréquentiel :\n",
    "\n",
    "$$\n",
    "\\text{SF :}\\qquad  x(t) e^{+j2\\pi k_0 t / T} \\quad&\\xrightarrow{\\;\\mathcal{F}\\;}\\quad X[k-k_0] \\\\\n",
    "\\text{TF :}\\qquad  x(t) e^{+j2\\pi f_0 / T} \\quad&\\xrightarrow{\\;\\mathcal{F}\\;}\\quad X(f-f_0) \\\\\n",
    "\\text{SFD :}\\qquad x(t) e^{+j2\\pi k_0 n / N} \\quad&\\xrightarrow{\\;\\mathcal{F}\\;}\\quad X[k-k_0]\n",
    "$$\n",
    "\n",
    "La multiplication par une exponentielle complexe correspond à une « modulation » en temporel\n",
    "et à un « déphasage » en fréquentiel.\n",
    "    \n",
    "### Discrétisation et périodicité\n",
    "\n",
    "À partir du tableau synthétisant les différentes transformées de Fourier (fait en exercice de TD),\n",
    "on constate que la discrétisation de l'espace d'un domaine est équivalent à la périodicité du signal dans l'autre domaine.\n",
    "Par conséquent, l'aspect continu de l'espace d'un domaine est équivalent à l'apériodicité du signal dans l'autre domaine.\n",
    "\n",
    "Autrement dit :\n",
    "\n",
    "$$\n",
    "\\text{signal à temps discret} \\quad&\\Leftrightarrow\\quad \\text{spectre périodique} \\\\\n",
    "\\text{signal à temps continu} \\quad&\\Leftrightarrow\\quad \\text{spectre apériodique} \\\\\n",
    "\\text{signal temporel périodique} \\quad&\\Leftrightarrow\\quad \\text{spectre discret en fréquence} \\\\\n",
    "\\text{signal temporel apériodique} \\quad&\\Leftrightarrow\\quad \\text{spectre continu en fréquence}\n",
    "$$"
   ]
  },
  {
   "cell_type": "markdown",
   "metadata": {},
   "source": [
    "## Théorème de Parseval–Plancherel\n",
    "\n",
    "Le théorème de Parseval–Plancherel signifie qu'il y a conservation de l'énergie dans les deux domaines :\n",
    "un signal temporel et sa transformation de Fourier ont la même énergie.\n",
    "\n",
    "$$\n",
    "\\text{SF :}\\qquad  \\frac{1}{T} \\int_T |x(t)|^2 dt &= \\sum_{k=-\\infty}^{+\\infty} |X[k]|^2 \\\\\n",
    "\\text{TF :}\\qquad  \\int_{-\\infty}^{+\\infty} |x(t)|^2 dt &= \\int_{\\infty}^{+\\infty} |X(f)|^2 df \\\\\n",
    "\\text{SFD :}\\qquad \\frac{1}{N} \\sum_{n=0}^{N-1} |x[n]|^2 &= \\sum_{k=0}^{N-1} |X[k]|^2\n",
    "$$"
   ]
  },
  {
   "cell_type": "markdown",
   "metadata": {},
   "source": [
    "## Condition de Dirichlet\n",
    "\n"
   ]
  },
  {
   "cell_type": "markdown",
   "metadata": {},
   "source": [
    "## Phénomène de Gibbs\n",
    "\n"
   ]
  },
  {
   "cell_type": "code",
   "execution_count": 54,
   "metadata": {
    "tags": [
     "remove-input"
    ]
   },
   "outputs": [
    {
     "data": {
      "image/png": "[encoded data removed]",
      "text/plain": [
       "<Figure size 1080x216 with 3 Axes>"
      ]
     },
     "metadata": {
      "needs_background": "light"
     },
     "output_type": "display_data"
    }
   ],
   "source": [
    "import numpy as np\n",
    "import matplotlib.pyplot as plt\n",
    "\n",
    "N = 500\n",
    "n = np.arange(N)\n",
    "\n",
    "# Signal de base\n",
    "x = np.where(n<N/2, 1, 0)\n",
    "\n",
    "# FFT\n",
    "X = np.fft.fft(x)\n",
    "\n",
    "# Nombre de coefficients de la FFT à conserver (doit être impair !)\n",
    "K = [3, 51, 151]\n",
    "\n",
    "plt.figure(figsize=(15,3))\n",
    "for i, k in enumerate(K):\n",
    "    \n",
    "    # Annulation des coefficients de la FFT\n",
    "    m = int((k-1)/2)\n",
    "    Y = X.copy()\n",
    "    Y[m+1:-m] = 0\n",
    "    \n",
    "    # Reconstruction\n",
    "    y = np.fft.ifft(Y)\n",
    "    y = np.real(y)\n",
    "    \n",
    "    # Affichage\n",
    "    plt.subplot(1, len(K), i+1)\n",
    "    plt.plot(n, x, \"-\", color=\"tab:green\", linewidth=1)\n",
    "    plt.plot(n, y)\n",
    "    plt.ylim([-.2, 1.2])\n",
    "\n",
    "plt.show()"
   ]
  }
 ],
 "metadata": {
  "kernelspec": {
   "display_name": "Python 3",
   "language": "python",
   "name": "python3"
  },
  "language_info": {
   "codemirror_mode": {
    "name": "ipython",
    "version": 3
   },
   "file_extension": ".py",
   "mimetype": "text/x-python",
   "name": "python",
   "nbconvert_exporter": "python",
   "pygments_lexer": "ipython3",
   "version": "3.7.2"
  },
  "widgets": {
   "application/vnd.jupyter.widget-state+json": {
    "state": {},
    "version_major": 2,
    "version_minor": 0
   }
  }
 },
 "nbformat": 4,
 "nbformat_minor": 4
}
