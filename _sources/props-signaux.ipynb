{
 "cells": [
  {
   "cell_type": "markdown",
   "metadata": {},
   "source": [
    "# Propriétés des signaux"
   ]
  },
  {
   "cell_type": "markdown",
   "metadata": {},
   "source": [
    "## Transformation de la variable indépendante\n",
    "\n",
    "Le signal $x(t)$ dépend de la variable $t$, appelée _variable indépendante_.\n",
    "\n",
    "* Un changement de signe sur $t$ revient à un retournement de l'axe temporel, donc à une symétrie par rapport à l'origine.\n",
    "* Un changement d'échelle consiste à multiplier $t$ par une variable $a \\in \\mathbb{R}^{+*}$.\n",
    "* Une translation (ou décalage) consiste à ajouter une variable $T\\in\\mathbb{R}$ à la variable indépendante.\n",
    "\n",
    "L'animation ci-dessous permet de visualiser ces transformations sur $t$, dans l'exemple d'un signal $x$ tel que\n",
    "\n",
    "$$\n",
    "  x(t) =\n",
    "  \\begin{cases}\n",
    "    t &\\text{si}\\quad 0 \\leq t < 1 \\\\\n",
    "    1 &\\text{si}\\quad 1 \\leq t < 2 \\\\\n",
    "    0 &\\text{sinon}\n",
    "  \\end{cases}\n",
    "$$\n",
    "\n",
    "<div id='dilatation' class='spetsi'></div>\n",
    "<script src=\"_static/js/spetsi.js\" type=\"text/javascript\"></script>\n",
    "<script src=\"_static/js/dilatation.js\" type=\"text/javascript\"></script>"
   ]
  },
  {
   "cell_type": "markdown",
   "metadata": {},
   "source": [
    "## Périodicité\n",
    "\n",
    "Un signal $x$ est périodique s'il est constitué d'une infinité de morceaux tous identiques, appelés _période_.\n",
    "Par extension, la période désigne aussi la longueur de cette période.\n",
    "Un signal non périodique est dit _apériodique_.\n",
    "Ainsi :\n",
    "* un signal à temps continu de période $T$ est tel que : $\\quad \\forall t \\quad x(t+T) = x(t)$\n",
    "* un signal à temps discret de période $N$ est tel que : $\\quad \\forall n \\quad x[n+N] = x[n]$\n",
    "\n",
    "La _fréquence_ d'un signal est l'inverse de sa période."
   ]
  },
  {
   "cell_type": "markdown",
   "metadata": {},
   "source": [
    "## Causalité\n",
    "\n",
    "Un signal $x$ _causal_ est nul pour les temps négatifs,\n",
    "* donc pour un signal à temps continu : $\\quad \\forall t<0 \\quad x(t) = 0$\n",
    "* et pour un signal à temps discret : $\\quad \\forall n<0 \\quad x[n] = 0$"
   ]
  }
 ],
 "metadata": {
  "kernelspec": {
   "display_name": "Python 3",
   "language": "python",
   "name": "python3"
  },
  "language_info": {
   "codemirror_mode": {
    "name": "ipython",
    "version": 3
   },
   "file_extension": ".py",
   "mimetype": "text/x-python",
   "name": "python",
   "nbconvert_exporter": "python",
   "pygments_lexer": "ipython3",
   "version": "3.7.3"
  },
  "widgets": {
   "application/vnd.jupyter.widget-state+json": {
    "state": {},
    "version_major": 2,
    "version_minor": 0
   }
  }
 },
 "nbformat": 4,
 "nbformat_minor": 4
}
