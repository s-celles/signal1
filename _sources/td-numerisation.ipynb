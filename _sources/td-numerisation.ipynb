{
 "cells": [
  {
   "cell_type": "markdown",
   "metadata": {},
   "source": [
    "# Exercices (numérisation)"
   ]
  },
  {
   "cell_type": "markdown",
   "metadata": {},
   "source": [
    "**Exercice 1**\n",
    "\n",
    "* Montrez que le train d'impulsions $x^*$ défini par\n",
    "  \n",
    "  $$\n",
    "  x^*(t) =\n",
    "  \\begin{cases}\n",
    "  x(t) &\\text{si}\\ t\\ \\text{est multiple de}\\ T_e \\\\\n",
    "  0    &\\text{sinon},\n",
    "  \\end{cases}\n",
    "  $$\n",
    "  \n",
    "  où $x$ est un signal analogique, s'écrit comme le produit d'un signal avec un train d'impulsions $Ш$ dont la période est à déterminer.\n",
    "  \n",
    "* Montrez que $x^*$ a pour transformée de Fourier\n",
    "  \n",
    "  $$\n",
    "  X^*(f) = \\sum_k X(f-kf_e).\n",
    "  $$\n",
    "  \n",
    "  La transformée de Fourier de $Ш_T(t)$ est $Ш_{1/T}(f)$."
   ]
  },
  {
   "cell_type": "markdown",
   "metadata": {},
   "source": [
    "**Exercice 2**\n",
    "\n",
    "Rappelez les relations entre fréquence d'échantillonnage, période d'échantillonnage et fréquence de Nyquist."
   ]
  },
  {
   "cell_type": "markdown",
   "metadata": {},
   "source": [
    "**Exercice 3**\n",
    "\n",
    "Proposez une fréquence d'échantillonnage pour effectuer un enregistrement numérique d'un électrocardiogramme.\n",
    "\n",
    "% À eux de trouver ce qu'est un électrocardiogramme\n",
    "% Un coeur bat à environ 1 ou 2 battements par seconde, soit 1 ou 2 Hz\n",
    "% Donc la fréq d'échantillonnage serait 4 Hz\n",
    "% Mais il faut beaucoup plus car :\n",
    "%       1. ce n'est qu'une valeur théorique\n",
    "%       2. un ECG n'est pas une sinusoïde mais un signal plus compliqué, avec beaucoup plus de fréquences"
   ]
  },
  {
   "cell_type": "markdown",
   "metadata": {},
   "source": [
    "**Exercice 4**\n",
    "<!-- Source : Prandoni, exo 9.6 -->\n",
    "\n",
    "Une sinusoïde $x(t)$ de fréquence 10 kHz est échantillonnée à une fréquence de 8 kHz.\n",
    "Quel sera le signal analogique reconstruit à partir du signal numérique ?"
   ]
  },
  {
   "cell_type": "markdown",
   "metadata": {},
   "source": [
    "**Exerice 5**\n",
    "\n",
    "Pour étudier l'effet du repliement spectral, on applique la chaîne de traitement ci-dessous à un signal sinusoïdal :\n",
    "le signal $x(t) = \\cos(2\\pi f_0 t)$ est échantillonné à une fréquence $f_e=1/T_e$ pour obtenir le signal $y(t)$,\n",
    "puis filtré par un filtre passe-bas idéal de fréquence de coupure $f_c = f_e/2$ pour obtenir le signal $z(t)$.\n",
    "\n",
    "```{figure} _static/figs/aliasing.png\n",
    "---\n",
    "width: 300px\n",
    "```\n",
    "\n",
    "Dans un premier temps, on prend $f_0=2$ kHz et $f_e=6$ kHz.\n",
    "\n",
    "* Représentez les modules des spectres de $x(t)$, $y(t)$ et $z(t)$.\n",
    "\n",
    "* Comparez le signal $z(t)$ avec $x(t)$.\n",
    "  Y a-t-il du repliement spectral ?\n",
    "\n",
    "* Mêmes questions avec $f_e = 3$ kHz."
   ]
  },
  {
   "cell_type": "markdown",
   "metadata": {},
   "source": [
    "**Exercice 6**\n",
    "\n",
    "Le signal $x(t) = A \\sin(2 \\pi f t + \\varphi)$ avec $A=3$, $f=2$ Hz et $\\varphi=\\pi/5$\n",
    "est quantifié sur 8 bits (avec un quantifieur uniforme par arrondi).\n",
    "Quel est la valeur du pas de quantification ?"
   ]
  },
  {
   "cell_type": "markdown",
   "metadata": {},
   "source": [
    "**Exercice 7**\n",
    "\n",
    "Un signal analogique de bande passante 20 kHz est numérisé sur 16 bits.\n",
    "Combien de bits par seconde au minimum doit traiter le convertisseur analogique-numérique ?\n",
    "En déduire la capacité de stockage d'un CD audio de 60 minutes, sachant que le son y est enregistré en stéréo.\n",
    "\n",
    "% Correction :\n",
    "% Th. échantillonnage : bande passante de 20 kHz donf fe (minimale) = 40 000 Hz\n",
    "% Quantification : RSB = 95 donc comme 1 bit fait gagner 6 dB, il faut 16 bits de quantification (=> RSB de 96 dB)\n",
    "% Résultat : 40 000 x 16 = 640 000 bits/s au minimum\n",
    "% Pour un CD, la stéréo impose deux fois plus de bits : 1,280 Mbits/s, soit pour 1h de son : 1,280 x 3600 = 4,608 Mbits\n",
    "% En divisant par 8, on obtient 576 Mo.\n",
    "% En réalité, l'échantillonnage sur un CD est effectué à 44 100 Hz, ce qui aboutit à 635,04 Mo"
   ]
  },
  {
   "cell_type": "markdown",
   "metadata": {},
   "source": [
    "**Exercice 8**\n",
    "\n",
    "<!-- Source : cours de C. Doignon -->\n",
    "\n",
    "Un convertisseur numérique-analogique 5 bits produit des tensions positives (commençant à 0 mV).\n",
    "Une entrée égale à 1 0 1 0 0 (bit de poids fort à gauche) correspond à une tension de 100 mV.\n",
    "\n",
    "* Calculez le pas de quantification (résolution) du convertisseur.\n",
    "* Calculez la tension maximale (pleine échelle) du convertisseur.\n",
    "* Quelle tension correspond à une entrée égale à 1 1 1 0 1 ?\n",
    "\n",
    "<!-- Correction :\n",
    "  On a              & 0\\,0\\,0\\,0\\,0 & $0$  & $0$~mV \\\\\n",
    "  et                & 1\\,0\\,1\\,0\\,0 & $20$ & $100$~mV. \\\\\n",
    "  Donc              & 0\\,0\\,0\\,0\\,1 & $1$  & $100/20$ = $5$~mV. \\\\\n",
    "  Par conséquent    & 1\\,1\\,1\\,0\\,1 & $29$ & $29 \\times 5$ = $145$~mV \\\\\n",
    "  et                & 1\\,1\\,1\\,1\\,1 & $31$ & $31 \\times 5$ = $155$~mV. \\\\ -->"
   ]
  },
  {
   "cell_type": "markdown",
   "metadata": {},
   "source": [
    "<!-- échantillonnage d'un signal pbande -->"
   ]
  },
  {
   "cell_type": "markdown",
   "metadata": {},
   "source": [
    "<!-- sp4comm, exo 9.4 -->"
   ]
  }
 ],
 "metadata": {
  "kernelspec": {
   "display_name": "Python 3",
   "language": "python",
   "name": "python3"
  },
  "language_info": {
   "codemirror_mode": {
    "name": "ipython",
    "version": 3
   },
   "file_extension": ".py",
   "mimetype": "text/x-python",
   "name": "python",
   "nbconvert_exporter": "python",
   "pygments_lexer": "ipython3",
   "version": "3.7.2"
  }
 },
 "nbformat": 4,
 "nbformat_minor": 4
}
