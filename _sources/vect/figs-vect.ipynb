{
 "cells": [
  {
   "cell_type": "markdown",
   "metadata": {
    "slideshow": {
     "slide_type": "slide"
    }
   },
   "source": [
    "# Représentation vectorielle des signaux"
   ]
  },
  {
   "cell_type": "code",
   "execution_count": 1,
   "metadata": {
    "slideshow": {
     "slide_type": "skip"
    },
    "tags": [
     "remove-cell"
    ]
   },
   "outputs": [],
   "source": [
    "import math\n",
    "import numpy as np\n",
    "import matplotlib.pyplot as plt\n",
    "\n",
    "import matplotlib as mpl\n",
    "mpl.rcParams['axes.grid'] = True\n",
    "mpl.rcParams['text.usetex'] = True\n",
    "mpl.rcParams['font.size'] = 16\n",
    "mpl.rcParams['savefig.bbox'] = 'tight'"
   ]
  },
  {
   "cell_type": "code",
   "execution_count": 2,
   "metadata": {
    "slideshow": {
     "slide_type": "skip"
    },
    "tags": [
     "remove-cell"
    ]
   },
   "outputs": [
    {
     "data": {
      "image/png": "[encoded data removed]",
      "text/plain": [
       "<Figure size 720x216 with 2 Axes>"
      ]
     },
     "metadata": {
      "needs_background": "light"
     },
     "output_type": "display_data"
    },
    {
     "data": {
      "image/png": "[encoded data removed]",
      "text/plain": [
       "<Figure size 288x288 with 1 Axes>"
      ]
     },
     "metadata": {
      "needs_background": "light"
     },
     "output_type": "display_data"
    }
   ],
   "source": [
    "n = np.arange(2)\n",
    "u = np.array([1, 1])\n",
    "d = np.array([1, 0])\n",
    "\n",
    "# Représentation sous forme de signaux\n",
    "fig = plt.figure(figsize=(10,3)) \n",
    "plt.subplot(1,2,1)\n",
    "plt.stem(n, u, linefmt='C0-', basefmt=' ', markerfmt='C0o')\n",
    "plt.ylim([-.1, 1.1])\n",
    "plt.xlabel(\"$n$\")\n",
    "plt.xlim([-.5, 1.5])\n",
    "plt.title(\"Échelon $u$\")\n",
    "plt.subplot(1,2,2)\n",
    "plt.stem(n, d, linefmt='C3-', basefmt=' ', markerfmt='C3o')\n",
    "plt.ylim([-.1, 1.1])\n",
    "plt.xlabel(\"$n$\")\n",
    "plt.xlim([-.5, 1.5])\n",
    "plt.title(\"Impulsion $\\delta$\")\n",
    "plt.savefig('ex-graphe.svg', bbox_inches='tight')\n",
    "\n",
    "# Représentation sous forme de vecteurs\n",
    "fig = plt.figure(figsize=(4,4))\n",
    "plt.arrow(0, 0, u[0], u[1], head_width=0.1, length_includes_head=True, color=\"tab:blue\")\n",
    "plt.arrow(0, 0, d[0], d[1], head_width=0.1, length_includes_head=True, color=\"tab:red\")\n",
    "plt.xticks(np.arange(-2, 2, 1))\n",
    "plt.yticks(np.arange(-2, 2, 1))\n",
    "plt.xlim([-2, 2])\n",
    "plt.ylim([-2, 2])\n",
    "plt.xlabel(\"$e_1$\")\n",
    "plt.ylabel(\"$e_2$\")\n",
    "plt.savefig('ex-espace.svg')"
   ]
  },
  {
   "cell_type": "code",
   "execution_count": 3,
   "metadata": {
    "tags": [
     "remove-cell"
    ]
   },
   "outputs": [
    {
     "data": {
      "image/png": "[encoded data removed]",
      "text/plain": [
       "<Figure size 1080x144 with 4 Axes>"
      ]
     },
     "metadata": {
      "needs_background": "light"
     },
     "output_type": "display_data"
    }
   ],
   "source": [
    "N = 4\n",
    "n = np.arange(N)\n",
    "fig = plt.figure(figsize=(15,2)) \n",
    "for k in range(N):\n",
    "    plt.subplot(1,N,k+1)\n",
    "    phi = np.zeros(N)\n",
    "    phi[k] = 1\n",
    "    plt.stem(n, phi, \".\", basefmt= \" \")\n",
    "    plt.xlabel(\"$n$\")\n",
    "    plt.title(f\"$\\delta_{k}$\")\n",
    "    plt.xlim([-.5, 3.5])\n",
    "    plt.ylim([-.5, 1.5])\n",
    "    plt.xticks(np.arange(0, 4))\n",
    "\n",
    "plt.savefig('base-canonique.svg')"
   ]
  }
 ],
 "metadata": {
  "kernelspec": {
   "display_name": "Python 3",
   "language": "python",
   "name": "python3"
  },
  "language_info": {
   "codemirror_mode": {
    "name": "ipython",
    "version": 3
   },
   "file_extension": ".py",
   "mimetype": "text/x-python",
   "name": "python",
   "nbconvert_exporter": "python",
   "pygments_lexer": "ipython3",
   "version": "3.7.3"
  },
  "widgets": {
   "application/vnd.jupyter.widget-state+json": {
    "state": {},
    "version_major": 2,
    "version_minor": 0
   }
  }
 },
 "nbformat": 4,
 "nbformat_minor": 4
}
