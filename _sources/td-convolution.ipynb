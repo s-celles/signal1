{
 "cells": [
  {
   "cell_type": "markdown",
   "metadata": {},
   "source": [
    "# Exercices (convolution)"
   ]
  },
  {
   "cell_type": "markdown",
   "metadata": {},
   "source": [
    "**Exercice 1**\n",
    "\n",
    "Représentez les signaux suivants :\n",
    "\n",
    "$$\n",
    "\\mathrm{rect}(t) * \\delta(t),     \\qquad\n",
    "\\mathrm{rect}(t) * \\delta(t-1),   \\qquad\n",
    "\\mathrm{rect}(t) * Ш_2(t).\n",
    "$$"
   ]
  },
  {
   "cell_type": "markdown",
   "metadata": {},
   "source": [
    "**Exercice 2**\n",
    "\n",
    "Calculez le produit de convolution pour les couples de signaux discrets suivants.\n",
    "Indiquez également quel est l'effet de la convolution sur le signal $x$.\n",
    "\n",
    "$$\n",
    "x[n] =\n",
    "\\begin{cases}\n",
    "  n \\quad\\text{pour}\\, n\\in\\{0,\\dots,5\\} \\\\\n",
    "  0 \\quad\\text{ailleurs}\n",
    "\\end{cases}\n",
    "\\quad\\text{et}\\quad\n",
    "y[n] =\n",
    "\\begin{cases}\n",
    "  3 \\quad\\text{pour}\\, n=5 \\\\\n",
    "  0 \\quad\\text{ailleurs}\n",
    "\\end{cases}\n",
    "$$\n",
    "\n",
    "$$\n",
    "x[n] =\n",
    "\\begin{cases}\n",
    "  1 \\quad\\text{pour } n=-1 \\text{ ou } n=1 \\\\\n",
    "  2 \\quad\\text{pour } n=0 \\\\\n",
    "  0 \\quad\\text{ailleurs}\n",
    "\\end{cases}\n",
    "\\quad\\text{et}\\quad\n",
    "y[n] =\n",
    "\\begin{cases}\n",
    "  -1 \\quad\\text{pour } n=-1 \\\\\n",
    "  1 \\quad\\text{pour } n=1 \\\\\n",
    "  0 \\quad\\text{ailleurs}\n",
    "\\end{cases}\n",
    "$$"
   ]
  },
  {
   "cell_type": "markdown",
   "metadata": {},
   "source": [
    "**Exercice 3**\n",
    "\n",
    "Calculez le produit de convolution $x*x$ où $x(t) = A$ sur $[-T;T]$ et $0$ ailleurs."
   ]
  }
 ],
 "metadata": {
  "kernelspec": {
   "display_name": "Python 3",
   "language": "python",
   "name": "python3"
  },
  "language_info": {
   "codemirror_mode": {
    "name": "ipython",
    "version": 3
   },
   "file_extension": ".py",
   "mimetype": "text/x-python",
   "name": "python",
   "nbconvert_exporter": "python",
   "pygments_lexer": "ipython3",
   "version": "3.7.2"
  }
 },
 "nbformat": 4,
 "nbformat_minor": 4
}
