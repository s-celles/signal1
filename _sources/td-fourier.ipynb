{
 "cells": [
  {
   "cell_type": "markdown",
   "metadata": {},
   "source": [
    "# Exercice (analyse de Fourier)"
   ]
  },
  {
   "cell_type": "markdown",
   "metadata": {},
   "source": [
    "**Exercice 1 : transformations de Fourier d'un signal porte**\n",
    "\n",
    "<!-- Cet exo permet de comparer les différentes transformations de Fourier, mais également de distinguer variable de fréquence, variable de temps, période et fréquence. -->\n",
    "\n",
    "* Calculez la série de Fourier du créneau $y(t)$ défini sur $[-T,\\,T]$ :\n",
    "  \n",
    "  $$\n",
    "    y(t) =\n",
    "    \\begin{cases}\n",
    "      A   &\\text{si}\\, -\\frac{T}{2} \\leq t \\leq \\frac{T}{2}, \\\\\n",
    "      0   &\\text{sinon}.\n",
    "    \\end{cases}\n",
    "  $$\n",
    "\n",
    "* Calculez la transformée de Fourier du signal $x(t)$ :\n",
    "  \n",
    "  $$\n",
    "    x(t) = A\\,\\mathrm{rect}\\left(\\frac{t}{T}\\right) =\n",
    "    \\begin{cases}\n",
    "      A   &\\text{si}\\, -\\frac{T}{2} \\leq t \\leq \\frac{T}{2}, \\\\\n",
    "      0   &\\text{sinon}.\n",
    "    \\end{cases}\n",
    "  $$\n",
    "\n",
    "* Calculez la série de Fourier discrète du signal $z[n]$ défini sur $\\{-N,\\dots,\\,N-1\\}$ (avec $N$ pair) :\n",
    "  \n",
    "  $$\n",
    "  z[n] =\n",
    "    \\begin{cases}\n",
    "      A   &\\text{si}\\, -\\frac{N}{2} \\leq n < \\frac{N}{2}, \\qquad\\text{(attention :}\\, z\\left[\\frac{N}{2}\\right] = 0)\\\\\n",
    "      0   &\\text{sinon}.\n",
    "    \\end{cases}\n",
    "  $$"
   ]
  },
  {
   "cell_type": "markdown",
   "metadata": {},
   "source": [
    "**Exercice 2 : série de Fourier d'une sinusoïde**\n",
    "\n",
    "* Calculez la série de Fourier d'une sinusoïde de fréquence $f_0$ et de phase $\\varphi$.\n",
    "\n",
    "* Que devient le spectre lorsque la phase varie ?\n",
    "\n",
    "* Tracez le module et la phase de la série de Fourier pour $\\varphi=0$ (cas d'un sinus) et pour $\\varphi=+\\pi/2$ (cas d'un cosinus).\n",
    "  Que constatez-vous ?\n",
    "  <!-- Même module, phase différente. -->"
   ]
  },
  {
   "cell_type": "markdown",
   "metadata": {},
   "source": [
    "**Exercice 3**\n",
    "<!-- Source : cours de C. Doignon -->\n",
    "<!-- X(f) = 1/(a+j2\\pi f) -->\n",
    "\n",
    "Calculez la transformée de Fourier du signal $x(t) = \\exp(-at)\\,u(t)$ où $a$ est un réel strictement positif."
   ]
  },
  {
   "cell_type": "markdown",
   "metadata": {},
   "source": [
    "**Exercice 4 : modulation d'amplitude avec porteuse**\n",
    "\n",
    "Le module du spectre d'un signal musical $m(t)$ est schématisé ci-dessous (la phase n'a pas d'importance dans cet exercice) :\n",
    "\n",
    "```{figure} _static/figs/fourier-am.png\n",
    "---\n",
    "height: 150px\n",
    "name: F:td-fourier:am\n",
    "```\n",
    "\n",
    "On envisage de transmettre ce signal par radio en modulation d'amplitude, c'est-à-dire de transmettre le signal $x(t)$ défini par :\n",
    "\n",
    "$$\n",
    "  x(t) = \\left(1 + m(t)\\right) \\cos(2\\pi f_p t).\n",
    "$$\n",
    "\n",
    "où $f_p = 162$ kHz. <!-- Fréquence AM de France Inter -->\n",
    "Le deuxième terme de cette équation est la «&nbsp;porteuse&nbsp;» qui est modulée en amplitude par $1+m(t)$.\n",
    "\n",
    "* À l'aide des propriétés de la transformée de Fourier, esquissez le module du spectre de $x(t)$.\n",
    "\n",
    "* Une autre station de radio désire elle aussi transmettre un signal musical, dont la fréquence maximale est 8000 Hz.\n",
    "  Proposez une valeur de la fréquence de la porteuse de ce deuxième programme."
   ]
  },
  {
   "cell_type": "markdown",
   "metadata": {},
   "source": [
    "**Exercice 5 : dualité**\n",
    "\n",
    "* Quel est, intuitivement, le spectre d'un signal temporel constant ? <!-- un dirac en 0 car pas de sinusoide -->\n",
    "* En déduire le spectre d'une impulsion de Dirac centrée en 0. <!-- dualité : c'est une constante -->\n",
    "* Qu'en concluez-vous sur la composition fréquentielle d'une impulsion de Dirac ? <!-- contient toutes les fréquences en quantité égale -->"
   ]
  },
  {
   "cell_type": "markdown",
   "metadata": {},
   "source": [
    "**Exercice 6**\n",
    "<!-- Inspiré de Oppenheim 4.25 -->\n",
    "\n",
    "Le signal $x(t)$ est représenté ci-dessous.\n",
    "\n",
    "```{figure} _static/figs/signal-M.png\n",
    "---\n",
    "height: 150px\n",
    "name: F:td-fourier:signal-M\n",
    "```\n",
    "\n",
    "On note $X(f)$ sa transformée de Fourier.\n",
    "Répondez aux questions suivantes sans calculer explicitement $X(f)$.\n",
    "\n",
    "* $X(f)$ est-elle périodique ? Si oui, donnez sa période.\n",
    "\n",
    "* $X(f)$ est-elle un signal continu ou discret ?\n",
    "\n",
    "* Donnez la valeur de $X(0)$.\n",
    "\n",
    "* Donnez $\\int|X(f)|^2\\,df$"
   ]
  },
  {
   "cell_type": "markdown",
   "metadata": {},
   "source": [
    "**Exercice 7**\n",
    "<!-- Source : Oppenheim 4.21 -->\n",
    "\n",
    "Calculez la transformée de Fourier du signal\n",
    "\n",
    "$$\n",
    "  x(t) =\n",
    "  \\begin{cases}\n",
    "    1+\\cos\\pi t &\\text{si}\\, |t|\\leq 1, \\\\\n",
    "    0           &\\text{sinon}.\n",
    "  \\end{cases}\n",
    "$$"
   ]
  },
  {
   "cell_type": "markdown",
   "metadata": {},
   "source": [
    "**Exercice 8**\n",
    "<!-- Source : Duvaut exercice 1.1.1 -->\n",
    "\n",
    "Soit $x(t)$ un signal réel. Quelle est la relation entre la transformée de Fourier de $x(t)$ et celle de $x(-t)$ ?"
   ]
  },
  {
   "cell_type": "markdown",
   "metadata": {},
   "source": [
    "**Exercice 9**\n",
    "<!-- Source : Duvaut exercice 1.1.2 -->\n",
    "\n",
    "Soit $x(t)$ un signal réel. Quelle est la relation entre la transformée de Fourier de $x(t)$ et celle de $x(t)\\times\\cos(2\\pi f_0 t)$ ?"
   ]
  },
  {
   "cell_type": "markdown",
   "metadata": {},
   "source": [
    "**Exercice 10**\n",
    "\n",
    "Calculez la transformée de Fourier du signal $\\mathrm{rect}(t)\\times\\cos(2\\pi f_p t)$."
   ]
  },
  {
   "cell_type": "markdown",
   "metadata": {},
   "source": [
    "**Exercice 11**\n",
    "<!-- Source : Oppenheim exo 8.3 -->\n",
    "\n",
    "Le signal $m(t)$ est à bande limitée : $M(f)=0$ pour $|f|>1$ kHz.\n",
    "Il est modulé en amplitude par une porteuse sinusoïdale de fréquence $f_p=1$ kHz :\n",
    "\n",
    "$$\n",
    "x(t) = m(t) \\sin(2\\pi f_p t)\n",
    "$$\n",
    "\n",
    "Sa démodulation est effectuée par le dispositif suivant :\n",
    "\n",
    "```{figure} _static/figs/chaine-modulation.png\n",
    "---\n",
    "height: 150px\n",
    "name: F:td-fourier:chaine-modulation\n",
    "```\n",
    "\n",
    "où le filtre passe-bas $h(t)$ est idéal, de gain 2 et de fréquence de coupure $f_c=1$ kHz.\n",
    "Déterminez $y(t)$."
   ]
  },
  {
   "cell_type": "markdown",
   "metadata": {},
   "source": [
    "**Exercice 12 : ancien chiffrement du son Canal+**\n",
    "<!-- Source : Ventre exo 2.1 -->\n",
    "\n",
    "Lorsque Canal+ émettait encore en analogique, le son $s(t)$ était chiffré en inversant son spectre comme schématisé ci-dessous.\n",
    "Proposez une technique pour réaliser cette opération.\n",
    "\n",
    "```{figure} _static/figs/canalplus.png\n",
    "---\n",
    "height: 150px\n",
    "name: F:td-fourier:canalplus\n",
    "```"
   ]
  },
  {
   "cell_type": "markdown",
   "metadata": {},
   "source": [
    "% \\exo{}\n",
    "% \\begin{enumerate}\n",
    "%\n",
    "%   \\item Tracez le signal porte suivant~:\n",
    "%   \\begin{equation*}\n",
    "%     x(t) =\n",
    "%     \\begin{cases}\n",
    "%       a     &\\text{si $T_1<t<T_2$}, \\\\\n",
    "%       a+A   &\\text{sinon}.\n",
    "%     \\end{cases}\n",
    "%   \\end{equation*}\n",
    "%\n",
    "%   \\item Calculez sa transformée de Fourier et représentez-la.\n",
    "%\n",
    "%   \\item Comment évolue le spectre lorsque les paramètres $a$, $A$, $T_1$ et $T_2$ varient~?\n",
    "%   En particulier, étudiez les quatre cas suivants~: $a=0$, $a=-A/2$, $T_1=0$ ou $T_1=-T_2$.\n",
    "%\n",
    "% \\end{enumerate}"
   ]
  },
  {
   "cell_type": "markdown",
   "metadata": {},
   "source": [
    "% \\exo{}\n",
    "\n",
    "% % Oppenheim 4.26\n",
    "% Calculez le produit de convolution des signaux $x(t)$ et $h(t)$ en utilisant leur transformée de Fourier.\n",
    "% \\begin{equation*}\n",
    "%   x(t) = t e^{-2t} \\, u(t)\n",
    "%   \\qquad\\qquad\n",
    "%   h(t) = e^{-4t} \\, u(t)\n",
    "% \\end{equation*}"
   ]
  },
  {
   "cell_type": "markdown",
   "metadata": {},
   "source": [
    "% \\exo{}\n",
    "%\n",
    "% Reliez les signaux temporels aux spectres en amplitude correspondants en justifiant vos choix.\n",
    "% %   \\renewcommand{\\fig}[1]{\\parbox[m]{25mm}{\\psfrag{t}[][]{$t$}\\psfrag{f}[][]{$f$}\\epsfig{file=figs/#1,width=25mm}}\\vspace*{0.2ex}}\n",
    "% \\newcommand{\\fig}[1]{\\parbox[m]{25mm}{\\includegraphics[width=25mm]{#1}}\\vspace*{0.2ex}}\n",
    "% \\begin{center}\n",
    "% \\begin{tabular}{ccp{4cm}cc}\n",
    "%   \\parbox{4cm}{\\centering signal \\\\ temporel} & & & & \\parbox{4cm}{\\centering module de la \\\\ transformée de Fourier} \\\\[4ex]\n",
    "%   \\fig{biztps.eps}      & $\\bullet$ A &     & 1 $\\bullet$ & \\fig{gaussienne2.eps} \\\\\n",
    "%   \\fig{sinus.eps}       & $\\bullet$ B &     & 2 $\\bullet$ & \\fig{bizfrq.eps}      \\\\\n",
    "%   \\fig{gaussienne.eps}  & $\\bullet$ C &     & 3 $\\bullet$ & \\fig{cosinus.eps}     \\\\\n",
    "%   \\fig{diracs2.eps}     & $\\bullet$ D &     & 4 $\\bullet$ & \\fig{diracs1.eps}     \\\\\n",
    "% \\end{tabular}\n",
    "% \\end{center}"
   ]
  }
 ],
 "metadata": {
  "kernelspec": {
   "display_name": "Python 3",
   "language": "python",
   "name": "python3"
  },
  "language_info": {
   "codemirror_mode": {
    "name": "ipython",
    "version": 3
   },
   "file_extension": ".py",
   "mimetype": "text/x-python",
   "name": "python",
   "nbconvert_exporter": "python",
   "pygments_lexer": "ipython3",
   "version": "3.7.3"
  }
 },
 "nbformat": 4,
 "nbformat_minor": 4
}
