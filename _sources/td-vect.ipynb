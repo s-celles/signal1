{
 "cells": [
  {
   "cell_type": "markdown",
   "metadata": {},
   "source": [
    "# Exercices (Représentation vectorielle)"
   ]
  },
  {
   "cell_type": "markdown",
   "metadata": {},
   "source": [
    "**Exercice 1**\n",
    "\n",
    "Représenter les signaux ci-dessous dans $\\mathbb{R}^5$ :\n",
    "\n",
    "$$\n",
    "\\delta[n], \\qquad u[n], \\qquad \\mathrm{rect}\\left(\\frac{n-2}{3}\\right), \\qquad \\cos\\left(\\frac{\\pi n}{2}\\right).\n",
    "$$"
   ]
  },
  {
   "cell_type": "markdown",
   "metadata": {},
   "source": [
    "**Exercice 2**\n",
    "\n",
    "On considère les signaux suivants :\n",
    "\n",
    "$$\n",
    "x = \\begin{bmatrix}  1 &  3 &  5 &  2 & -4 & -4 \\end{bmatrix},\\qquad\n",
    "y = \\begin{bmatrix}  2 & -2 &  2 & -1 &  5 &  5 \\end{bmatrix},\\qquad\n",
    "z = \\begin{bmatrix}  5 & -2 & -1 &  3 &  1 & -1 \\end{bmatrix}.\n",
    "$$\n",
    "\n",
    "1. Calculez l'énergie de ces signaux.\n",
    "1. Quels signaux sont orthogonaux ?"
   ]
  },
  {
   "cell_type": "markdown",
   "metadata": {},
   "source": [
    "**Exercice 3**\n",
    "\n",
    "Le signal $x = \\begin{bmatrix} 4 & -2 & 10 & 7 \\end{bmatrix}$ est une version modifiée d'un des deux signaux ci-dessous.\n",
    "Calculez les distances adéquates pour trouver de quel signal $x$ est le plus proche.\n",
    "\n",
    "$$\n",
    "u_1 = \\begin{bmatrix}  0 & 0 & 10 & 10 \\end{bmatrix},\\qquad\n",
    "u_2 = \\begin{bmatrix} 10 & 0 & 10 &  0 \\end{bmatrix}.\n",
    "$$"
   ]
  },
  {
   "cell_type": "markdown",
   "metadata": {},
   "source": [
    "**Exercice 4**\n",
    "\n",
    "On considère le signal $x = \\begin{bmatrix} 3 & 4 & 5 \\end{bmatrix}$ de taille $N=3$.\n",
    "\n",
    "1. Calculez l'énergie de $x$.\n",
    "\n",
    "1. Les signaux $w_i$ tels que\n",
    "\n",
    "$$\n",
    "\\forall\\,i\\in\\{0,\\dots,N-1\\}, \\qquad\n",
    "w_i = \\begin{bmatrix}\n",
    "    \\frac{1}{\\sqrt{N}} &\n",
    "    \\frac{1}{\\sqrt{N}} e^{-j\\frac{2\\pi}{N}i} &\n",
    "    \\frac{1}{\\sqrt{N}} e^{-j\\frac{2\\pi}{N}2i}\n",
    "\\end{bmatrix}\n",
    "$$\n",
    "\n",
    "forment une base orthonormée qu'on appellera $W$.\n",
    "Écrivez tous les vecteurs de la base $W$.\n",
    "\n",
    "1. Déterminez la projection $x'$ de $x$ dans la base $W$ et calculez son énergie. Que remarquez-vous ?"
   ]
  }
 ],
 "metadata": {
  "kernelspec": {
   "display_name": "Python 3",
   "language": "python",
   "name": "python3"
  },
  "language_info": {
   "codemirror_mode": {
    "name": "ipython",
    "version": 3
   },
   "file_extension": ".py",
   "mimetype": "text/x-python",
   "name": "python",
   "nbconvert_exporter": "python",
   "pygments_lexer": "ipython3",
   "version": "3.7.2"
  }
 },
 "nbformat": 4,
 "nbformat_minor": 4
}
