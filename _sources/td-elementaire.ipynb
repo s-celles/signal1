{
 "cells": [
  {
   "cell_type": "markdown",
   "metadata": {},
   "source": [
    "# Exercices (notions élémentaires)"
   ]
  },
  {
   "cell_type": "markdown",
   "metadata": {},
   "source": [
    "Avant de commencer, avez-vous réussi à installer et utiliser Python ?"
   ]
  },
  {
   "cell_type": "markdown",
   "metadata": {},
   "source": [
    "**Exercice 1**\n",
    "\n",
    "Complétez le [tableau de classification des signaux](https://vincmazet.github.io/signal1/_static/files/table-classif/table-classif.pdf).\n",
    "\n",
    "Placez dans le tableau les signaux suivants :\n",
    "- un signal acoustique dans l'air, en fonction du temps\n",
    "- l'enregistrement du nombre de personnes atteintes d'une maladie en fonction du temps\n",
    "- le nombre d'étudiants dans une classe en fonction du temps\n",
    "- l'heure du lever de soleil tous les jours"
   ]
  },
  {
   "cell_type": "markdown",
   "metadata": {},
   "source": [
    "**Exercice 2**\n",
    "\n",
    "Tracez à la main les signaux suivants :\n",
    "\n",
    "$$\n",
    "  \\frac{1}{2} \\mathrm{sinc}\\left(\\frac{t}{2}\\right),\\qquad\n",
    "  \\sin(\\pi n),\\qquad\n",
    "  \\mathrm{rect}\\left(\\frac{n}{4}-\\frac{1}{2}\\right) - \\delta[n-2]\n",
    "$$"
   ]
  },
  {
   "cell_type": "markdown",
   "metadata": {},
   "source": [
    "**Exercice 3**\n",
    "\n",
    "Calculez la puissance et l'énergie des signaux suivants :\n",
    "\n",
    "$$\n",
    "  x(t) = e^{-2t} u(t),\\qquad\n",
    "  y[n] = \\frac{1}{2^n} u[n].\n",
    "$$"
   ]
  }
 ],
 "metadata": {
  "kernelspec": {
   "display_name": "Python 3",
   "language": "python",
   "name": "python3"
  },
  "language_info": {
   "codemirror_mode": {
    "name": "ipython",
    "version": 3
   },
   "file_extension": ".py",
   "mimetype": "text/x-python",
   "name": "python",
   "nbconvert_exporter": "python",
   "pygments_lexer": "ipython3",
   "version": "3.7.2"
  }
 },
 "nbformat": 4,
 "nbformat_minor": 4
}
