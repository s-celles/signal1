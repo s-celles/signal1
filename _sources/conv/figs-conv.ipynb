{
 "cells": [
  {
   "cell_type": "markdown",
   "metadata": {},
   "source": [
    "# Produit de convolution"
   ]
  },
  {
   "cell_type": "code",
   "execution_count": 1,
   "metadata": {},
   "outputs": [],
   "source": [
    "import numpy as np\n",
    "import blocks as blk"
   ]
  },
  {
   "cell_type": "code",
   "execution_count": 2,
   "metadata": {},
   "outputs": [
    {
     "data": {
      "image/png": "[encoded data removed]",
      "text/plain": [
       "<Figure size 604.8x115.2 with 1 Axes>"
      ]
     },
     "metadata": {
      "needs_background": "light"
     },
     "output_type": "display_data"
    }
   ],
   "source": [
    "fig, ax = blk.drawing(8.4, 1.6, debug=False)\n",
    "\n",
    "y = .8\n",
    "\n",
    "blk.label(ax, 1.6, y   , \"$x$\")\n",
    "blk.arrow(ax, 1.9, y   , 1.0, 0)\n",
    "blk.block(ax, 2.9, y-.7, 2.6, 1.4, \"Instrument\\nou système\")\n",
    "blk.arrow(ax, 5.5, y   , 1.0, 0)\n",
    "blk.label(ax, 7.5, y   , \"$y = x*h$\")\n",
    "\n",
    "blk.saving(ax, \"convolution.svg\")"
   ]
  }
 ],
 "metadata": {
  "kernelspec": {
   "display_name": "Python 3",
   "language": "python",
   "name": "python3"
  },
  "language_info": {
   "codemirror_mode": {
    "name": "ipython",
    "version": 3
   },
   "file_extension": ".py",
   "mimetype": "text/x-python",
   "name": "python",
   "nbconvert_exporter": "python",
   "pygments_lexer": "ipython3",
   "version": "3.7.3"
  }
 },
 "nbformat": 4,
 "nbformat_minor": 4
}
