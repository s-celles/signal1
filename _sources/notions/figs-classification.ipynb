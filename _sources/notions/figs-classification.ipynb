{
 "cells": [
  {
   "cell_type": "markdown",
   "metadata": {},
   "source": [
    "# Signaux élémentaires"
   ]
  },
  {
   "cell_type": "code",
   "execution_count": 1,
   "metadata": {},
   "outputs": [],
   "source": [
    "import numpy as np\n",
    "import matplotlib.pyplot as plt"
   ]
  },
  {
   "cell_type": "code",
   "execution_count": 11,
   "metadata": {},
   "outputs": [
    {
     "data": {
      "image/png": "[encoded data removed]",
      "text/plain": [
       "<Figure size 216x165.6 with 1 Axes>"
      ]
     },
     "metadata": {},
     "output_type": "display_data"
    },
    {
     "data": {
      "image/png": "[encoded data removed]",
      "text/plain": [
       "<Figure size 216x165.6 with 1 Axes>"
      ]
     },
     "metadata": {},
     "output_type": "display_data"
    },
    {
     "data": {
      "image/png": "[encoded data removed]",
      "text/plain": [
       "<Figure size 216x165.6 with 1 Axes>"
      ]
     },
     "metadata": {},
     "output_type": "display_data"
    },
    {
     "data": {
      "image/png": "[encoded data removed]",
      "text/plain": [
       "<Figure size 216x165.6 with 1 Axes>"
      ]
     },
     "metadata": {},
     "output_type": "display_data"
    }
   ],
   "source": [
    "# Signal\n",
    "def signal(t):\n",
    "    return np.sin(t*9 + .4) * np.exp(-3*t) + .03\n",
    "\n",
    "# Vecteurs des abscisses et des signaux\n",
    "t = np.linspace(0, 1, 100)\n",
    "n = np.linspace(0, 1, 20)\n",
    "xa = signal(t)\n",
    "xe = signal(n)\n",
    "xq = np.around(xa,1)\n",
    "xn = np.around(xe,1)\n",
    "\n",
    "# Données à représenter\n",
    "data = [\n",
    "    [\"signal-analogique\", t, xa, '-'],\n",
    "    [\"signal-echantillonne\", n, xe, '.'],\n",
    "    [\"signal-numerique\", n, xn, '.'],\n",
    "    [\"signal-quantifie\", t, xq, '-'],\n",
    "]\n",
    "\n",
    "for fname, x, y, ls in data:\n",
    "    plt.figure(figsize=(3,2.3))\n",
    "    plt.plot(x, y, ls)\n",
    "    plt.xticks([])\n",
    "    plt.yticks([])\n",
    "    plt.savefig(f'{fname}.pdf', bbox_inches='tight')\n",
    "    plt.show()"
   ]
  }
 ],
 "metadata": {
  "kernelspec": {
   "display_name": "Python 3",
   "language": "python",
   "name": "python3"
  },
  "language_info": {
   "codemirror_mode": {
    "name": "ipython",
    "version": 3
   },
   "file_extension": ".py",
   "mimetype": "text/x-python",
   "name": "python",
   "nbconvert_exporter": "python",
   "pygments_lexer": "ipython3",
   "version": "3.7.2"
  }
 },
 "nbformat": 4,
 "nbformat_minor": 4
}
