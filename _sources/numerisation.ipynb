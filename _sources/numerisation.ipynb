{
 "cells": [
  {
   "cell_type": "markdown",
   "metadata": {},
   "source": [
    "# Numérisation d'un signal"
   ]
  },
  {
   "cell_type": "markdown",
   "metadata": {},
   "source": [
    "La plupart des signaux d'origine physique sont analogiques (amplitudes et temps continus).\n",
    "Si on veut transmettre, traiter ou stocker ces signaux sous forme numérique ou à l'aide de systèmes numériques,\n",
    "alors il faut les convertir au préalable sous forme numérique (amplitudes et temps discrets),\n",
    "donc transformer ces signaux en signaux échantillonnés et quantifiés.\n",
    "Les principaux intérêts du traitement numérique s'un signal sont\n",
    "la simplicité de réglage des paramètres, la robustesse au bruit, la réduction du coût, etc.\n",
    "\n",
    "Or, la numérisation impose une modification du signal analogique ;\n",
    "mais les contraintes imposées pour que les signaux numérisés représentent correctement les signaux analogiques sont faibles."
   ]
  }
 ],
 "metadata": {
  "kernelspec": {
   "display_name": "Python 3",
   "language": "python",
   "name": "python3"
  },
  "language_info": {
   "codemirror_mode": {
    "name": "ipython",
    "version": 3
   },
   "file_extension": ".py",
   "mimetype": "text/x-python",
   "name": "python",
   "nbconvert_exporter": "python",
   "pygments_lexer": "ipython3",
   "version": "3.7.2"
  }
 },
 "nbformat": 4,
 "nbformat_minor": 4
}
