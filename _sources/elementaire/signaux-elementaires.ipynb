{
 "cells": [
  {
   "cell_type": "markdown",
   "metadata": {},
   "source": [
    "# Signaux élémentaires\n",
    "\n",
    "Différents signaux seront régulièrement utilisés dans le cours : ils sont définis ici.\n",
    "La plupart peuvent être définis à temps continu ou à temps discret."
   ]
  },
  {
   "cell_type": "markdown",
   "metadata": {},
   "source": [
    "## Sinusoïde\n",
    "\n",
    "En temps continu, la sinusoïde a pour expression :\n",
    "\n",
    "$$\n",
    "  x(t) = A \\sin(2 \\pi f t + \\varphi)\n",
    "$$\n",
    "\n",
    "dont les [paramètres](https://vincmazet.github.io/spetsi/sinus.html) sont :\n",
    "* $A$ est l'_amplitude_,\n",
    "* $f$ est la _fréquence_,\n",
    "* $\\varphi$ est la _phase_.\n",
    "  Remarquez que si $\\varphi=0$, alors $x(t)$ est un sinus,\n",
    "  et si $\\varphi=\\pi/2$, alors $x(t)$ est un cosinus.\n",
    "\n",
    "La sinusoïde en temps continu est [périodique](https://fr.wikipedia.org/wiki/Fonction_p%C3%A9riodique) de période $1/f$ ou, de manière équivalente, de fréquence $f$.\n",
    "\n",
    "En temps discret, la sinusoïde a la même expression :\n",
    "\n",
    "$$\n",
    "  x[n] = A \\sin(2 \\pi f n + \\varphi)\n",
    "$$\n",
    "\n",
    "Le sinus est créé en Python avec la fonction [`numpy.sin`](https://numpy.org/doc/stable/reference/generated/numpy.sin.html).\n",
    "\n",
    "```{figure} sinusoide.svg\n",
    "---\n",
    "width: 700px\n",
    "name: F:sinusoide\n",
    "---\n",
    "```"
   ]
  },
  {
   "cell_type": "markdown",
   "metadata": {},
   "source": [
    "## Exponentielle complexe\n",
    "\n",
    "En temps continu, l'exponentielle complexe a pour expression :\n",
    "\n",
    "$$\n",
    "  x(t) = \\exp(j 2 \\pi f t + \\varphi)\n",
    "       = \\cos(2 \\pi f t + \\varphi) + j \\sin(2 \\pi f t + \\varphi)\n",
    "$$\n",
    "\n",
    "En temps discret, c'est la même expression (en remplaçant les parenthèses dans $x(t)$ par des crochets). L'exponentielle est créée en Python avec la fonction [`numpy.exp`](https://numpy.org/doc/stable/reference/generated/numpy.exp.html),\n",
    "et le nombre complexe $j$ est obtenu avec `1j`.\n",
    "\n",
    "À cause du nombre complexe $j$, le signal est à valeurs complexes.\n",
    "Pour le représenter, il faut être dans un espace à trois dimensions (la variable, la partie réelle et la partie imaginaire).\n",
    "De cette manière, l'exponentielle complexe ressemble à une queue de cochon, ou un tire-bouchon.\n",
    "Remarquez que la variable $f$, souvent appelée fréquence, peut tout à fait être négative : dans ce cas, l'exponentielle complexe tourne dans le sens inverse.\n",
    "\n",
    "```{figure} expo.svg\n",
    "---\n",
    "name: F:expo\n",
    "---\n",
    "```\n",
    "\n",
    "<div id=\"expo\" class=\"spetsi mathjax_process\"></div>\n",
    "<script src=\"https://vincmazet.github.io/spetsi/js/spetsi.js\" type=\"text/javascript\"></script>\n",
    "<script src=\"https://vincmazet.github.io/spetsi/js/three.js\"></script>\n",
    "<script src=\"https://vincmazet.github.io/spetsi/js/expo.js\" type=\"text/javascript\"></script>"
   ]
  },
  {
   "cell_type": "markdown",
   "metadata": {},
   "source": [
    "## Sinus cardinal\n",
    "\n",
    "Le sinus cardinal, noté $\\mathrm{sinc}$, a pour définition :\n",
    "\n",
    "```{margin}\n",
    "Le cas où $t=0$ est à considérer à part puisque la division par $t=0$ n'est pas possible.\n",
    "```\n",
    "\n",
    "$$\n",
    "  \\mathrm{sinc}(t) =\n",
    "  \\begin{cases}\n",
    "    \\displaystyle \\frac{\\sin(\\pi t)}{\\pi t} &\\text{si}\\quad t \\neq 0 \\\\\n",
    "    1 &\\text{si}\\quad t = 0\n",
    "  \\end{cases}\n",
    "$$\n",
    "\n",
    "Un sinus cardinal ressemble à un cosinus donc l'amplitude décroît lorsqu'on s'éloigne de $t=0$.\n",
    "\n",
    "Encore une fois, le sinus cardinal à temps discret a la même expression (avec des crochets à la place des parenthèses).\n",
    "Le sinus cardinal est obtenu en Python avec la fonction [`numpy.sinc`](https://numpy.org/doc/stable/reference/generated/numpy.sinc.html).\n",
    "\n",
    "```{figure} sinc.svg\n",
    "---\n",
    "width: 700px\n",
    "name: F:sinc\n",
    "---\n",
    "```"
   ]
  },
  {
   "cell_type": "markdown",
   "metadata": {},
   "source": [
    "\n",
    "## Échelon\n",
    "\n",
    "L'échelon (également appelé fonction de Heaviside) a pour définition :\n",
    "\n",
    "$$\n",
    "  u(t) =\n",
    "  \\begin{cases}\n",
    "    0 &\\text{si}\\quad t < 0 \\\\\n",
    "    1 &\\text{si}\\quad t \\geq 0\n",
    "  \\end{cases}\n",
    "$$\n",
    "\n",
    "L'échelon est donc nul pour $t<0$ et égal à 1 sinon.\n",
    "Il existe aussi une version à temps discret.\n",
    "\n",
    "```{figure} echelon.svg\n",
    "---\n",
    "width: 700px\n",
    "name: F:echelon\n",
    "---\n",
    "```\n",
    "\n",
    "Il n'existe pas de fonction permettant de générer un échelon en Python : il faut passer par des instructions spécifiques, comme par exemple dans le code suivant :"
   ]
  },
  {
   "cell_type": "code",
   "execution_count": 2,
   "metadata": {},
   "outputs": [
    {
     "data": {
      "image/png": "[encoded data removed]",
      "text/plain": [
       "<Figure size 432x288 with 1 Axes>"
      ]
     },
     "metadata": {
      "needs_background": "light"
     },
     "output_type": "display_data"
    }
   ],
   "source": [
    "# Modules à importer\n",
    "import numpy as np\n",
    "import matplotlib.pyplot as plt\n",
    "\n",
    "# Tout d'abord, générer la liste des instants d'échantillonnage\n",
    "# Par exemple ici : 11 échantillons répartis entre -5 et 4\n",
    "n = np.arange(-5, 5)\n",
    "\n",
    "# L'échelon est obtenu avec la fonction numpy.where\n",
    "# qui affecte la valeur 1 ou 0 suivant la condition\n",
    "u = np.where(n>=0, 1, 0)\n",
    "\n",
    "# Affichage\n",
    "plt.stem(n, u, basefmt=\" \")\n",
    "plt.grid()\n",
    "plt.show()"
   ]
  },
  {
   "cell_type": "markdown",
   "metadata": {},
   "source": [
    "## Porte\n",
    "\n",
    "La porte (ou fonction rectangle) a pour définition :\n",
    "\n",
    "$$\n",
    "  \\mathrm{rect}(t) =\n",
    "  \\begin{cases}\n",
    "    0 &\\text{si}\\quad |t| > \\frac{1}{2} \\\\\n",
    "    1 &\\text{si}\\quad |t| \\leq \\frac{1}{2}\n",
    "  \\end{cases}\n",
    "$$\n",
    "\n",
    "Cette porte est de longueur 1 et centrée sur 0.\n",
    "\n",
    "```{figure} porte.svg\n",
    "---\n",
    "width: 700px\n",
    "name: F:porte\n",
    "---\n",
    "```"
   ]
  },
  {
   "cell_type": "markdown",
   "metadata": {},
   "source": [
    "````{dropdown} Prélèvement d'un signal\n",
    "La porte est très utile pour exprimer mathématiquement le « prélèvement » d'une portion d'un signal :\n",
    "on parle de « fenêtrage ».\n",
    "Ainsi, la portion de largeur $T$ centrée autour de $t_0$ d'un signal $x(t)$ s'exprime :\n",
    "\n",
    "$$\n",
    "  \\tilde{x}(t) = x(t) \\times \\mathrm{rect}\\left(\\frac{t-t_0}{T}\\right).\n",
    "$$\n",
    "\n",
    "```{figure} fenetre.svg\n",
    "---\n",
    "width: 700px\n",
    "name: F:fenetre\n",
    "---\n",
    "Fenêtrage du signal $x$ par une porte de largeur $T$ et centrée autour de $t_0$.\n",
    "```\n",
    "\n",
    "````"
   ]
  },
  {
   "cell_type": "markdown",
   "metadata": {},
   "source": [
    "Comme pour l'échelon, la porte peut être définie en Python avec la fonction [`numpy.where`](https://numpy.org/doc/stable/reference/generated/numpy.where.html).\n",
    "Par exemple, l'illustration ci-dessous est une porte discrète centrée sur 2 et de longueur 7 :"
   ]
  },
  {
   "cell_type": "code",
   "execution_count": 7,
   "metadata": {},
   "outputs": [
    {
     "data": {
      "image/png": "[encoded data removed]",
      "text/plain": [
       "<Figure size 432x288 with 1 Axes>"
      ]
     },
     "metadata": {
      "needs_background": "light"
     },
     "output_type": "display_data"
    }
   ],
   "source": [
    "# Porte définie entre -5 et 10,\n",
    "# représentée entre -15 et 14\n",
    "n = np.arange(-12, 12)\n",
    "r = np.where( (n>=-1) & (n<=5) , 1, 0)\n",
    "plt.stem(n, r, basefmt=\" \")\n",
    "plt.grid()\n",
    "plt.show()"
   ]
  },
  {
   "cell_type": "markdown",
   "metadata": {},
   "source": [
    "## Impulsion de Dirac\n",
    "\n",
    "L'impulsion de Dirac est telle que :\n",
    "\n",
    "$$\n",
    "  \\delta(t) = 0 \\;\\text{si}\\; t \\neq 0\n",
    "  \\qquad\\text{et}\\qquad\n",
    "  \\int \\delta(t) dt = 1\n",
    "$$\n",
    "\n",
    "L'impulsion de Dirac n'est pas une fonction, au sens mathématique, car $\\delta(0)$ n'est pas défini : c'est en fait une distribution.\n",
    "Pour cette raison, on représente ce signal par une flèche, qui signifie que la valeur n'est pas définie en 0.\n",
    "\n",
    "```{figure} dirac.svg\n",
    "---\n",
    "width: 700px\n",
    "name: F:dirac\n",
    "---\n",
    "```\n",
    "\n",
    "C'est un signal non représentable physiquement car il n'existe pas dans la nature.\n",
    "Mais c'est une conceptualisation mathématique bien pratique.\n",
    "Un exemple réaliste qui s'en approcherait serait le son produit lorsqu'on tape d'un coup bref dans ses mains.\n",
    "On peut l'approcher par une porte dont la largeur tend vers 0 et l'amplitude vers l'infini.\n",
    "\n",
    "L'impulsion de Dirac a des propriétés particulières, notamment :\n",
    "* $f(t) \\delta(t) = f(0) \\delta(t)$\n",
    "* $f(t) \\delta(t-\\tau) = f(\\tau) \\delta(t-\\tau)$\n",
    "\n",
    "De la dernière propriété découle la suivante :\n",
    "\n",
    "$$\n",
    "  \\int f(t) \\delta(t-\\tau) dt = \\int f(\\tau) \\delta(t-\\tau) dt\n",
    "  = f(\\tau) \\int \\delta(t-\\tau) dt = f(\\tau).\n",
    "$$\n",
    "\n",
    "À l'inverse des signaux précédents, l'impulsion de Dirac ne peut pas s'écrire en temps discret.\n",
    "Il existe cependant un signal qui s'en approche : l'[impulsion discrète](C:signaux-elementaires:kronecker)."
   ]
  },
  {
   "cell_type": "markdown",
   "metadata": {},
   "source": [
    "(C:signaux-elementaires:kronecker)=\n",
    "## Impulsion discrète\n",
    "\n",
    "L'impulsion discrète est l'équivalent à temps discret de l'impulsion de Dirac. C'est une fonction mathématique classique car elle est définie en tout point :\n",
    "\n",
    "$$\n",
    "  \\delta[n] =\n",
    "  \\begin{cases}\n",
    "      0 \\;\\text{si}\\; n \\neq 0 \\\\\n",
    "      1 \\;\\text{si}\\; n = 0\n",
    "  \\end{cases}\n",
    "$$\n",
    "\n",
    "L'impulsion discrète est également appelée impulsion de Kronecker.\n",
    "\n",
    "La fonction `numpy.where` peut encore être utilisée pour définir une impulsion discrète en Python :"
   ]
  },
  {
   "cell_type": "code",
   "execution_count": 6,
   "metadata": {},
   "outputs": [
    {
     "data": {
      "image/png": "[encoded data removed]",
      "text/plain": [
       "<Figure size 720x216 with 1 Axes>"
      ]
     },
     "metadata": {
      "needs_background": "light"
     },
     "output_type": "display_data"
    }
   ],
   "source": [
    "n = np.arange(-10, 10)\n",
    "d = np.where(n==0, 1, 0)\n",
    "\n",
    "plt.figure(figsize=(10,3))\n",
    "plt.stem(n, d, basefmt=\" \")\n",
    "plt.xlabel(\"$n$\")\n",
    "plt.ylabel(\"δ[n]\")\n",
    "plt.grid()\n",
    "plt.show()"
   ]
  },
  {
   "cell_type": "markdown",
   "metadata": {},
   "source": [
    "## Peigne de Dirac\n",
    "\n",
    "Le peigne de Dirac est défini par ($T > 0$) :\n",
    "\n",
    "$$\n",
    "  Ш_T(t) = \\sum_{k=-\\infty}^{+\\infty} \\delta(t-kT)\n",
    "$$\n",
    "\n",
    "Le peigne de Dirac est également appelé train d'impulsion, fonction d'échantillonnage ou distribution Cha (en raison de sa ressemblance avec la lettre cyrillique Ш).\n",
    "\n",
    "```{figure} peigne.svg\n",
    "---\n",
    "width: 700px\n",
    "name: F:peigne\n",
    "---\n",
    "```\n",
    "\n",
    "<a class=\"exercise btn btn-light\" href=\"td.html#exercice-2\" role=\"button\">2</a>"
   ]
  }
 ],
 "metadata": {
  "kernelspec": {
   "display_name": "Python 3 (ipykernel)",
   "language": "python",
   "name": "python3"
  },
  "language_info": {
   "codemirror_mode": {
    "name": "ipython",
    "version": 3
   },
   "file_extension": ".py",
   "mimetype": "text/x-python",
   "name": "python",
   "nbconvert_exporter": "python",
   "pygments_lexer": "ipython3",
   "version": "3.9.7"
  }
 },
 "nbformat": 4,
 "nbformat_minor": 4
}
