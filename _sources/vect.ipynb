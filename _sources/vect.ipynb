{
 "cells": [
  {
   "cell_type": "markdown",
   "metadata": {
    "slideshow": {
     "slide_type": "slide"
    }
   },
   "source": [
    "# Représentation vectorielle des signaux"
   ]
  },
  {
   "cell_type": "code",
   "execution_count": 1,
   "metadata": {
    "slideshow": {
     "slide_type": "skip"
    },
    "tags": [
     "remove-cell"
    ]
   },
   "outputs": [],
   "source": [
    "from myst_nb import glue\n",
    "import math\n",
    "from numpy import arange, array, zeros\n",
    "from matplotlib.pyplot import figure, plot, show, subplot, title, xlabel, ylabel, xlim, ylim, arrow, grid"
   ]
  },
  {
   "cell_type": "markdown",
   "metadata": {
    "slideshow": {
     "slide_type": "subslide"
    }
   },
   "source": [
    "Un signal qui est échantillonné et à temps limité (c'est-à-dire nul ou non défini en dehors d'un intervalle) peut tout simplement se représenter par une séquence finie de valeurs numériques. Dans le cas d'un signal $x$ défini sur $N$ échantillons, le signal est équivalent à un vecteur :\n",
    "\n",
    "$$\n",
    "  x = [ x_0 \\, x_1 \\, \\dots \\, x_{N-1} ]\n",
    "$$\n",
    "\n",
    "où les $x_n$ sont les échantillons du signal.\n",
    "On notera $x\\in\\mathbb{R}^N$ pour signifier que $x$ est un signal échantillonné à temps limité de $N$ échantillons à valeurs réelles.\n",
    "\n",
    "Notez que, par convention, le premier échantillon est indexé par 0.\n",
    "\n",
    "L'équivalence entre signal échantillonné à temps limité et vecteur a plusieurs intérêts :\n",
    "* on peut utiliser des outils de l'algèbre linéaire pour faire du traitement du signal ;\n",
    "* on peut faire des interprétations géométriques ;\n",
    "* c'est l'interprétation qui est faite dans les logiciels et les langages de calcul numérique, comme en Python."
   ]
  },
  {
   "cell_type": "markdown",
   "metadata": {
    "slideshow": {
     "slide_type": "slide"
    }
   },
   "source": [
    "<div class=\"example\">\n",
    "\n",
    "L'échelon $u$ et l'impulsion $\\delta$ s'écrivent dont dans $\\mathbb{R}^2$ :\n",
    "\n",
    "$$\n",
    "  u = [ 1 \\, 1]\n",
    "  \\qquad\\text{et}\\qquad\n",
    "  \\delta = [1 \\, 0].\n",
    "$$\n",
    "\n",
    "Leur représentation est donnée {numref}`F:vect:ex-graphe`. Il s'agit simplement de deux signaux de deux échantillons. Les axes de cette représentation sont : les échantillons en abscisse, et les amplitude du signal en ordonnée.\n",
    "\n",
    "```{glue:figure} G:vect:ex-graphe\n",
    ":name: \"F:vect:ex-graphe\"\n",
    "\n",
    "Représentation de l'échelon et de l'impulsion de taille 2 sous forme de signaux.\n",
    "```\n",
    "\n",
    "Par ailleurs, comme ces deux signaux peuvent s'interpréter comme des vecteurs, alors on peut les représenter comme tel, dans un espace à deux dimensions, comme dans la {numref}`F:vect:ex-espace`. Les axes de cette représentation sont : le premier échantillon du signal en abscisse, et le deuxième échantillon en ordonnée.\n",
    "\n",
    "```{glue:figure} G:vect:ex-espace\n",
    ":name: \"F:vect:ex-espace\"\n",
    "\n",
    "Représentation de l'échelon et de l'impulsion de taille 2 sous forme de vecteurs.\n",
    "```\n",
    "    \n",
    "</div>"
   ]
  },
  {
   "cell_type": "code",
   "execution_count": 2,
   "metadata": {
    "slideshow": {
     "slide_type": "skip"
    },
    "tags": [
     "remove-cell"
    ]
   },
   "outputs": [
    {
     "data": {
      "image/png": "[encoded data removed]",
      "text/plain": [
       "<Figure size 720x216 with 2 Axes>"
      ]
     },
     "metadata": {
      "needs_background": "light"
     },
     "output_type": "display_data"
    },
    {
     "data": {
      "application/papermill.record/image/png": "iVBORw0KGgoAAAANSUhEUgAAAl4AAADjCAYAAABU6hoEAAAABHNCSVQICAgIfAhkiAAAAAlwSFlzAAALEgAACxIB0t1+/AAAADh0RVh0U29mdHdhcmUAbWF0cGxvdGxpYiB2ZXJzaW9uMy4xLjMsIGh0dHA6Ly9tYXRwbG90bGliLm9yZy+AADFEAAAY9klEQVR4nO3df5TddX3n8efLhOCqqEDGXyQQWNEtUAUdWaLdGoUeA7tC99RtoXJWuyjHKnY9bd1ita6Hrcdfp8ceK10XrcW6KiK72ujiUkWyddcECf4Ag0ZiABOjEhGwajUC7/3jfofeDHcyd2a+8703mefjnHvm++Pz/b7fn7mZd973e79zJ1WFJEmSFt/DRp2AJEnSUmHjJUmS1BEbL0mSpI7YeEmSJHXExkuSJKkjNl6SJEkdsfGSJEnqiI2XHpTk4Ulem+TQUeciSdLByMZL/f4C2FlVPx91IpIkHYxsvPSgqnp5VV0x7Pgktyc5Yz6xFnKsJHVp2HqVZGuSdR2kpAOYjZemiso/Jvlx3+Pdo85LkvqN+wu2qjqxqjYuxrmTnJ/kliT3JrkryR8uRhwtvuWjTkBj44VV9dlRJyFJ2leSxwDvB55ZVTcneSRw1IjT0jx5xUv7lWR1kv+ZZE/zKmv6lbCTk9zUvAr7aJKHN8c9Kcn/aI67Lcnv7SfGLyXZmOSe5lL92X37bk/yh4NizHCuNyf58771VUl+ksR/69JBpKkNr21qw0+S/FWSxyf5dJJ/SPLZJIdPG/+65qrR3Un+uq9eVZIn9429PMmfzhD3j5J8p4mxLcnp02Kc0Sy3VteAnwK3AJcmuQQ4qqq+Od/vnUbL/4w0oyTLgE8BdwBr6L3Cmn4P2G8C64FjgacBL22anE8CX22OOR14TZIXDIhxSDP274DHAa8GPpTkqfuLsZ+0T27iTnk6sLWqHph1wpIONL8B/BrwFOCFwKeBPwZW0vv/bfoLvhcDLwD+eXPMG+YSrKlLFwHPqqrDmnPdPmBc23XthcCHq+pXgauBjUl+eS65a3zYeGnKJ5pXZlOPlwOnAk8CXltVP6mqn1XV/5123LuqandV/ZBeoTkZeBYwUVWXVNXeqtoBvBc4d0Dc04BHAW9txn6OXrN33iwxZnIycFPf+tOnrUs6ePxFVX2/qr4DfB64vqq+3Pxm9seBU6aNf3dV7WxqyZvZt84M437gUOCEJIdU1e1V9a0B41qra0mOAS4B/gygqjYD/4de06kDkI2Xpvx6VT227/FeYDVwR1Xdt5/jvte3/FN6xeYY4En9jRy9V6GPH3D8k+h9hEX/Fak72Pf+hUExHiLJRBNja9/mp7PvFTBJB4/v9y3/44D16bViZ9/yHfTqz9CqajvwGuBNwJ1Jrkgy6Byt1TXgfGBTVd3ft+3RwE/mkrvGh42X9mcncHSSuf4Sxk7gtmmN3GFVddaAsbuB1dPuwToa+M488j0RuLWqfgbQ5P08vOIlqWd13/LR9OoP9BqfR/Tte8JMJ6iqD1fVr9B7gVnA2wYMa7OuHQ3cM7WS5AjgucD/nse5NAZsvLQ/XwS+C7w1ySObT7Z/zpDH/ai5CfWfJVmW5KQkzxow9np6r9z+U5JDms/AeSEPvZdsGAEekWR5U/DeDkxg4yWp51XNL9wcQe8q/Eeb7V8BfrupVevpNTYPkeSpSZ6f3l/3+Bm9q2r3DxjaZl37JvBvkkwkeRzwIeATVXXzPM6lMWDjpSmfzL6f4/Xx5tL2C4EnA98GdgG/NduJ+o47GbgN+AHwPuAxA8buBc4GzmzG/SXw76vqG/OYw+fpNVnfAD4zlXNV3T2Pc0k6+HyY3g3vO5rH1G8u/kd6Neseejfgf2KG4w8F3kqvVn2P3o3zfzx9UMt17T3Al4Bt9F7Ufgl42TzOozGRqhp1DpIkLaoktwMv8/MKNWpe8ZIkSeqIjZckSVJHfKtRkiSpI17xkiRJ6oiNlyRJUkfm+sGYrVm5cmWtWbNmVOEljcCNN974g6qaGHUeC2X9kpaeturXyBqvNWvWsGXLllGFlzQCSe4YdQ5tsH5JS09b9cu3GiVJkjpi4yVJktQRGy9JkqSO2HhJkiR1xMZLkiSpIzZekiRJHbHxkiRJ6oiNlyRJUkdmbbySvD/JnUm+NsP+JHlXku1JbkryjPbTlKT5sYZJGifDXPG6HFi/n/1nAsc3jwuB/7rwtA5eN95xN5det50b77h71KmoYz73I3M51rD2bNoEb3lL76ukOZv1TwZV1d8nWbOfIecAf1NVBWxO8tgkT6yq77aU40Hjxjvu5sXv28ze+x5gxfKH8aGXncYzjzl81GmpAz73o2MNa9GmTXD66bB3L6xYAddeC2vXjjor6YDSxj1eRwE7+9Z3NdseIsmFSbYk2bJnz54WQh9YNu+4i733PcADBb+47wE277hr1CmpIz73Y22oGrbU6xcAGzf2mq777+993bhx1BlJB5w2Gq8M2FaDBlbVZVU1WVWTExML/gPfB5zTjjuSFcsfxrLAIcsfxmnHHTnqlNQRn/uxNlQNW+r1C4B163pXupYt631dt27UGUkHnFnfahzCLmB13/oqYHcL5z3oPPOYw/nQy05j8467OO24I32raQnxuR9r1rBhrV3be3tx48Ze0+XbjNKctdF4bQAuSnIF8C+Be703YmbPPOZw/9Ndonzux5Y1bC7WrrXhkhZg1sYryUeAdcDKJLuA/wwcAlBV7wGuBs4CtgM/BX5nsZKVpLmyhkkaJ8P8VuN5s+wv4FWtZSRJLbKGSRonfnK9JElSR2y8JEmSOmLjJUmS1BEbL0mSpI7YeEmSJHXExkuSJKkjNl6SJEkdsfGSJEnqiI2XJElSR2y8JEmSOmLjJUmS1BEbL0mSpI7YeEmSJHXExkuSJKkjNl6SJEkdsfGSJEnqiI2XJElSR2y8JEmSOjJU45VkfZJtSbYnuXjA/qOTXJfky0luSnJW+6lK0txZvySNk1kbryTLgEuBM4ETgPOSnDBt2BuAK6vqFOBc4C/bTlSS5sr6JWncDHPF61Rge1XtqKq9wBXAOdPGFPDoZvkxwO72UpSkebN+SRorwzReRwE7+9Z3Ndv6vQk4P8ku4Grg1YNOlOTCJFuSbNmzZ8880pWkObF+SRorwzReGbCtpq2fB1xeVauAs4APJnnIuavqsqqarKrJiYmJuWcrSXNj/ZI0VoZpvHYBq/vWV/HQS/EXAFcCVNUm4OHAyjYSlKQFsH5JGivDNF43AMcnOTbJCno3n26YNubbwOkASX6JXuHyWrykUbN+SRorszZeVXUfcBFwDfB1er/9szXJJUnObob9AfDyJF8FPgK8tKqmX86XpE5ZvySNm+XDDKqqq+nddNq/7Y19y7cAz2k3NUlaOOuXpHHiJ9dLkiR1xMZLkiSpIzZekiRJHbHxkiRJ6oiNlyRJUkdsvCRJkjpi4yVJktQRGy9JkqSO2HhJkiR1xMZLkiSpIzZekiRJHbHxkiRJ6oiNlyRJUkdsvCRJkjpi4yVJktQRGy9JkqSO2HhJkiR1xMZLkiSpI0M1XknWJ9mWZHuSi2cY85tJbkmyNcmH201TkubH+iVpnCyfbUCSZcClwK8Bu4Abkmyoqlv6xhwPvA54TlXdneRxi5WwJA3L+iVp3AxzxetUYHtV7aiqvcAVwDnTxrwcuLSq7gaoqjvbTVOS5sX6JWmsDNN4HQXs7Fvf1Wzr9xTgKUn+X5LNSda3laAkLYD1S9JYmfWtRiADttWA8xwPrANWAZ9PclJV3bPPiZILgQsBjj766DknK0lzZP2SNFaGueK1C1jdt74K2D1gzN9W1S+q6jZgG71Cto+quqyqJqtqcmJiYr45S9KwrF+SxsowjdcNwPFJjk2yAjgX2DBtzCeA5wEkWUnv0v2ONhOVpHmwfkkaK7M2XlV1H3ARcA3wdeDKqtqa5JIkZzfDrgHuSnILcB3w2qq6a7GSlqRhWL8kjZtUTb/doRuTk5O1ZcuWkcSWNBpJbqyqyVHnsVDWL2npaat++cn1kiRJHbHxkiRJ6oiNlyRJUkdsvCRJkjpi4yVJktQRGy9JkqSO2HhJkiR1xMZLkiSpIzZekiRJHbHxkiRJ6oiNlyRJUkdsvCRJkjpi4yVJktQRGy9JkqSO2HhJkiR1xMZLkiSpIzZekiRJHbHxkiRJ6shQjVeS9Um2Jdme5OL9jHtRkkoy2V6KkjR/1i9J42TWxivJMuBS4EzgBOC8JCcMGHcY8HvA9W0nKUnzYf2SNG6GueJ1KrC9qnZU1V7gCuCcAeP+C/B24Gct5idJC2H9kjRWhmm8jgJ29q3varY9KMkpwOqq+lSLuUnSQlm/JI2VYRqvDNhWD+5MHga8E/iDWU+UXJhkS5Ite/bsGT5LSZof65eksTJM47ULWN23vgrY3bd+GHASsDHJ7cBpwIZBN6hW1WVVNVlVkxMTE/PPWpKGY/2SNFaGabxuAI5PcmySFcC5wIapnVV1b1WtrKo1VbUG2AycXVVbFiVjSRqe9UvSWJm18aqq+4CLgGuArwNXVtXWJJckOXuxE5Sk+bJ+SRo3y4cZVFVXA1dP2/bGGcauW3haktQO65ekceIn10uSJHXExkuSJKkjNl6SJEkdsfGSJEnqiI2XJElSR2y8JEmSOmLjJUmS1BEbL0mSpI7YeEmSJHXExkuSJKkjNl6SJEkdsfGSJEnqiI2XJElSR2y8JEmSOmLjJUmS1BEbL0mSpI7YeEmSJHXExkuSJKkjNl6SJEkdGarxSrI+ybYk25NcPGD/7ye5JclNSa5Nckz7qUrS3Fm/JI2TWRuvJMuAS4EzgROA85KcMG3Yl4HJqnoacBXw9rYTlaS5sn5JGjfDXPE6FdheVTuqai9wBXBO/4Cquq6qftqsbgZWtZumJM2L9UvSWBmm8ToK2Nm3vqvZNpMLgE8P2pHkwiRbkmzZs2fP8FlK0vxYvySNlWEarwzYVgMHJucDk8A7Bu2vqsuqarKqJicmJobPUpLmx/olaawsH2LMLmB13/oqYPf0QUnOAF4PPLeqft5OepK0INYvSWNlmCteNwDHJzk2yQrgXGBD/4AkpwD/DTi7qu5sP01Jmhfrl6SxMmvjVVX3ARcB1wBfB66sqq1JLklydjPsHcCjgI8l+UqSDTOcTpI6Y/2SNG6GeauRqroauHratjf2LZ/Rcl6S1Arrl6Rx4ifXS5IkdcTGS5IkqSM2XpIkSR2x8ZIkSeqIjZckSVJHbLwkSZI6YuMlSZLUERsvSZKkjth4SZIkdcTGS5IkqSM2XpIkSR2x8ZIkSeqIjZckSVJHbLwkSZI6YuMlSZLUERsvSZKkjth4SZIkdcTGS5IkqSNDNV5J1ifZlmR7kosH7D80yUeb/dcnWdN2opI0H9YvSeNk1sYryTLgUuBM4ATgvCQnTBt2AXB3VT0ZeCfwtrYTlaS5sn5JLdq0Cd7ylt5XzdswV7xOBbZX1Y6q2gtcAZwzbcw5wAea5auA05OkvTQlaV6sX1IbNm2C00+HP/mT3lebr3kbpvE6CtjZt76r2TZwTFXdB9wLHDn9REkuTLIlyZY9e/bML2NJGp71S2rDxo2wdy/cf3/v68aNo87ogDVM4zXolV/NYwxVdVlVTVbV5MTExDD5SdJCWL+kNqxbBytWwLJlva/r1o06owPW8iHG7AJW962vAnbPMGZXkuXAY4AftpKhJM2f9Utqw9q1cO21vStd69b11jUvwzReNwDHJzkW+A5wLvDb08ZsAF4CbAJeBHyuqh7yilGSOmb9ktqydq0NVwtmbbyq6r4kFwHXAMuA91fV1iSXAFuqagPwV8AHk2yn90rx3MVMWpKGYf2SNG6GueJFVV0NXD1t2xv7ln8G/Lt2U5OkhbN+SRonfnK9JElSR2y8JEmSOmLjJUmS1BEbL0mSpI7YeEmSJHXExkuSJKkjNl6SJEkdsfGSJEnqSEb1lzGS/AOwbSTBe1YCP1iCsY3vcz/K+E+tqsNGGL8VS7x+LfX4S3nuo44/6rm3Ur+G+uT6RbKtqiZHFTzJllHFH2Vs4/vcjzr+qGK3bMnWr6UefynPfdTxx2HubZzHtxolSZI6YuMlSZLUkVE2XpeNMPao4y/luS/1+Et57uMQvy2jnofxl2bspR7/oJj7yG6ulyRJWmp8q1GSJKkji9p4JTkiyWeS3Np8PXyGcfcn+Urz2NC3/dgk1zfHfzTJirbjJzk5yaYkW5PclOS3+vZdnuS2vtxOHiLm+iTbkmxPcvGA/Yc2c9nezG1N377XNdu3JXnBXOY6h/i/n+SWZq7XJjmmb9/A56HF2C9Nsqcvxsv69r2keZ5uTfKSucYeMv47+2J/M8k9ffsWOvf3J7kzyddm2J8k72pyuynJM/r2tTH32eK/uIl7U5IvJHl6377bk9zczH1ev7UzRPx1Se7t+x6/sW/ffp+3UbF+La36NWT8Ratho6xfzTlGVsOWXP2qqkV7AG8HLm6WLwbeNsO4H8+w/Urg3Gb5PcDvth0feApwfLP8JOC7wGOb9cuBF80h3jLgW8BxwArgq8AJ08a8EnhPs3wu8NFm+YRm/KHAsc15ls1xvsPEfx7wiGb5d6fi7+95aDH2S4F3Dzj2CGBH8/XwZvnwtuNPG/9q4P1tzL05/leBZwBfm2H/WcCngQCnAde3Nfch4z976rzAmVPxm/XbgZWLPP91wKcW+rx1+Rimfuzv3w7WrwOmfs0h/ktZhBo2158DWq5fzTlGVsOGiH1Q1a/FfqvxHOADzfIHgF8f9sAkAZ4PXDWf44eNX1XfrKpbm+XdwJ3AxBzjTDkV2F5VO6pqL3BFk8NMOV0FnN7M9Rzgiqr6eVXdBmxvztdq/Kq6rqp+2qxuBlbNMca8Y+/HC4DPVNUPq+pu4DPA+kWOfx7wkTnGmFFV/T3ww/0MOQf4m+rZDDw2yRNpZ+6zxq+qLzTnh3af96Hi78dC/t0sNuvX0qlfQ8Xfj4X+HI+0fsFoa9hSq1+L3Xg9vqq+C9B8fdwM4x6eZEuSzUmmisuRwD1VdV+zvgs4apHiA5DkVHpd67f6Nr+5ubz5ziSHzhLvKGBn3/qgnB8c08ztXnpzHebY2cz1HBfQewUzZdDz0Hbs32i+n1clWT3PvBcSn+btiWOBz/VtXsjcF5JfG3Ofq+nPewF/l+TGJBcuYty1Sb6a5NNJTmy2jWL+w7J+LZ36NZf4i1HDxr1+7S/Hrn+GD/j6teBPrk/yWeAJA3a9fg6nObqqdic5DvhckpuBHw0Y95BfwWwpPk3n/kHgJVX1QLP5dcD36BWzy4A/Ai7Z32mGyHmmMcMcO5uhz5HkfGASeG7f5oc8D1X1rUHHzzP2J4GPVNXPk7yC3ivn588l7wXGn3IucFVV3d+3bSFzX0h+bcx9+CSS59ErXL/St/k5zdwfB3wmyTeaV4Bt+hJwTFX9OMlZwCeA4+l4/tNZv/Y9zRA5H6z1a9j4i1XDxr1+7S/Hzn6GD5b6teArXlV1RlWdNODxt8D3m4IwVRjunOEcu5uvO4CNwCn0/h7TY5NMNYergN2LET/Jo4H/BbyhuYQ6de7vNpdVfw78NbNfOt8FrO5bH5Tzg2OauT2G3iXOYY6dzVDnSHIGvcJ+djM3YMbnobXYVXVXX7z3As+cS94Ljd/nXKZdpl/g3BeSXxtzH0qSpwHvA86pqrumtvfN/U7g48z9LaJZVdWPqurHzfLVwCFJVtLh/GfIy/r1T5Zy/Roq/iLWsHGvXzDiGnZQ1a9a4A15+3sA72Dfm0PfPmDM4cChzfJK4Faam9OAj7HvzamvXIT4K4BrgdcM2PfE5muAPwfeOku85fRuLDyWf7rR7sRpY17FvjenXtksn8i+N6fuYO43pw4T/xR6b0UcP+zz0GLsJ/Yt/1tgc7N8BHBbk8PhzfIRbc+9GfdUejdjpq25951nDTPfnPmv2ffG1C+2Nfch4x9N776bZ0/b/kjgsL7lLwDrFyH+E6a+5/QK47eb78VQz9soHli/lkz9mkP8Ralhw/4csIj1qzl+fz/Di1rDZol9UNWvOSc3x4kcSa8o3Np8PaLZPgm8r1l+NnBzk/DNwAV9xx8HfLH5hn9s6h9Xy/HPB34BfKXvcXKz73NNTl8D/jvwqCFingV8k15xeH2z7RJ6r84AHt7MZXszt+P6jn19c9w24Mx5fs9ni/9Z4Pt9c90w2/PQYuy3AFubGNcB/6Lv2P/QfE+2A7+zGHNv1t/EtP+AWpr7R+j9Rtkv6L0KugB4BfCKZn+AS5vcbgYmW577bPHfB9zd97xv6fsZ+2rz2Dr1fVuE+Bf1Pfeb6Sugg563cXhg/VpS9WvI+ItWw2aL3ay/iUWoX815RlbDhoh9UNUvP7lekiSpI35yvSRJUkdsvCRJkjpi4yVJktQRGy9JkqSO2HhJkiR1xMZLkiSpIzZekiRJHbHxUmeSfDzJnyb5fJLvNX/6Q5LGnvVLbbHxUpdOAu6pqn8FvBJ48YjzkaRhWb/UChsvdSLJI+j9Qd13NpuWA/eMLiNJGo71S22y8VJXTgRurKr7m/Wn0fsbcpI07qxfao2Nl7pyEr0/bjrlacBNI8pFkubC+qXW2HipK7/MvoXrJHzFKOnAYP1Sa1JVo85BkiRpSfCKlyRJUkdsvCRJkjpi4yVJktQRGy9JkqSO2HhJkiR1xMZLkiSpIzZekiRJHbHxkiRJ6sj/B6JsGsluCN2uAAAAAElFTkSuQmCC\n",
      "application/papermill.record/text/plain": "<Figure size 720x216 with 2 Axes>"
     },
     "metadata": {
      "scrapbook": {
       "mime_prefix": "application/papermill.record/",
       "name": "G:vect:ex-graphe"
      }
     },
     "output_type": "display_data"
    },
    {
     "data": {
      "image/png": "[encoded data removed]",
      "text/plain": [
       "<Figure size 288x288 with 1 Axes>"
      ]
     },
     "metadata": {
      "needs_background": "light"
     },
     "output_type": "display_data"
    },
    {
     "data": {
      "application/papermill.record/image/png": "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\n",
      "application/papermill.record/text/plain": "<Figure size 288x288 with 1 Axes>"
     },
     "metadata": {
      "scrapbook": {
       "mime_prefix": "application/papermill.record/",
       "name": "G:vect:ex-espace"
      }
     },
     "output_type": "display_data"
    }
   ],
   "source": [
    "n = arange(2)\n",
    "u = array([1, 1])\n",
    "d = array([1, 0])\n",
    "\n",
    "# Représentation sous forme de signaux\n",
    "fig = figure(figsize=(10,3)) \n",
    "subplot(1,2,1)\n",
    "plot(n, u, \".\")\n",
    "ylim([-.1, 1.1])\n",
    "xlabel(\"$n$\")\n",
    "xlim([-.5, 1.5])\n",
    "title(\"Échelon $u$\")\n",
    "subplot(1,2,2)\n",
    "plot(n, d, \"r.\")\n",
    "ylim([-.1, 1.1])\n",
    "xlabel(\"$n$\")\n",
    "xlim([-.5, 1.5])\n",
    "title(\"Impulsion $\\delta$\")\n",
    "show()\n",
    "glue(\"G:vect:ex-graphe\", fig, display=False)\n",
    "\n",
    "# Représentation sous forme de vecteurs\n",
    "fig = figure(figsize=(4,4))\n",
    "arrow(0, 0, u[0], u[1], head_width=0.08, length_includes_head=True, color=\"tab:blue\")\n",
    "arrow(0, 0, d[0], d[1], head_width=0.08, length_includes_head=True, color=\"tab:red\")\n",
    "xlim([-1.5, 1.5])\n",
    "ylim([-1.5, 1.5])\n",
    "xlabel(\"$e_1$\")\n",
    "ylabel(\"$e_2$\")\n",
    "grid()\n",
    "show()\n",
    "glue(\"G:vect:ex-espace\", fig, display=False)"
   ]
  },
  {
   "cell_type": "markdown",
   "metadata": {
    "slideshow": {
     "slide_type": "slide"
    }
   },
   "source": [
    "## Quelques définitions\n",
    "\n",
    "On peut définir les mêmes outils que ceux de la géométrie euclidienne pour les signaux échantillonnés à temps limité.\n",
    "\n",
    "\n",
    "### Produit scalaire\n",
    "\n",
    "Le _produit scalaire_ entre deux signaux $x$ et $y$ de taille $N$ est (la notation $\\cdot^*$ signifie conjugué) :\n",
    "\n",
    "$$\n",
    "  \\langle x,y \\rangle = \\sum_{n=0}^{N-1} x_n y_n^*.\n",
    "$$\n",
    "\n",
    "### Orthogonalité\n",
    "\n",
    "Deux signaux sont _orthogonaux_ si et seulement si leur produit scalaire est nul.\n",
    "\n",
    "### Norme\n",
    "\n",
    "La _norme_ d'un signal $x$ de taille $N$ est :\n",
    "\n",
    "$$\n",
    "  \\|x\\| = \\sqrt{\\langle x,x \\rangle} = \\sqrt{ \\sum_{n=0}^{N-1} |x_n|^2 }.\n",
    "$$\n",
    "\n",
    "### Énergie\n",
    "\n",
    "L'_énergie_ d'un signal de taille $N$ est le carré de sa norme :\n",
    "\n",
    "$$\n",
    "  \\|x\\|^2 = \\sum_{n=0}^{N-1} |x_n|^2.\n",
    "$$\n",
    "\n",
    "### Distance\n",
    "\n",
    "La _distance_ entre deux signaux $x$ et $y$ de taille $N$ est la norme de la différence :\n",
    "\n",
    "$$\n",
    "  \\|x-y\\| = \\sqrt{ \\sum_{n=0}^{N-1} |x_n-y_n|^2 }.\n",
    "$$\n",
    "\n",
    "### Erreur quadratique moyenne\n",
    "\n",
    "L'_erreur quadratique moyenne_ (EQM) entre deux signaux $x$ et $y$ de taille $N$ est :\n",
    "\n",
    "$$\n",
    "  \\mathrm{EQM} = \\frac{1}{N}\\|x-y\\|^2.\n",
    "$$\n",
    "\n",
    "### Base\n",
    "\n",
    "Une _base_ est un ensemble de $N$ signaux tels que tout signal échantillonné de taille $N$ peut s'écrire comme une combinaison linéaire unique de signaux de cette base. Ainsi, si $\\{\\varphi_0 \\, \\varphi_1 \\, \\dots \\, \\varphi_{N-1}\\}$ est un ensemble de $N$ signaux formant une base, alors tout signal $x\\in\\mathbb{C}^N$ s'écrira\n",
    "\n",
    "$$\n",
    "  x = \\sum_{k=0}^{N-1} \\alpha_k \\varphi_k\n",
    "$$\n",
    "\n",
    "où les $\\alpha_k$ sont des coefficients uniques (il ne peut pas y avoir plusieurs jeux différents de coefficients $\\{\\alpha_k\\}$).\n",
    "\n",
    "Si en plus les vecteurs $\\{\\varphi_k\\}$ de cette base sont orthogonaux deux à deux et de norme 1, alors la base est _orthonormée_.\n",
    "\n",
    "<div class=\"example\">\n",
    "\n",
    "Pour $N=4$, les signaux $\\delta[n-k]$ avec $k\\in\\{0,\\dots,3\\}$ forment une base, qui plus est orthonormée.\n",
    "\n",
    "```{glue:figure} G:vect:base-canonique\n",
    ":name: \"F:vect:base-canonique\"\n",
    "\n",
    "Base canonique dans $\\mathbb{R}^4$.\n",
    "```\n",
    "\n",
    "Nous ne représentons pas ces quatre signaux sous forme de vecteur, car cela nécessite de les représenter dans un espace à quatre dimensions (or, votre écran n'en a que deux).\n",
    "\n",
    "Cette base est d'ailleurs appelée _base canonique_ car c'est la base naturelle pour représenter les signaux. En effet, les échantillons de tout signal de taille $N$ correspondent aux coefficients $\\alpha_k$.\n",
    "    \n",
    "</div>"
   ]
  },
  {
   "cell_type": "code",
   "execution_count": 3,
   "metadata": {
    "tags": [
     "remove-cell"
    ]
   },
   "outputs": [
    {
     "data": {
      "application/papermill.record/image/png": "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\n",
      "application/papermill.record/text/plain": "<Figure size 1080x144 with 4 Axes>"
     },
     "metadata": {
      "scrapbook": {
       "mime_prefix": "application/papermill.record/",
       "name": "G:vect:base-canonique"
      }
     },
     "output_type": "display_data"
    },
    {
     "data": {
      "image/png": "[encoded data removed]",
      "text/plain": [
       "<Figure size 1080x144 with 4 Axes>"
      ]
     },
     "metadata": {
      "needs_background": "light"
     },
     "output_type": "display_data"
    }
   ],
   "source": [
    "N = 4\n",
    "n = arange(N)\n",
    "fig = figure(figsize=(15,2)) \n",
    "for k in range(N):\n",
    "    subplot(1,N,k+1)\n",
    "    phi = zeros(N)\n",
    "    phi[k] = 1\n",
    "    plot(n, phi, \".\")\n",
    "    xlabel(\"$n$\")\n",
    "    title(f\"$\\delta_{k}$\")\n",
    "\n",
    "glue(\"G:vect:base-canonique\", fig, display=False)"
   ]
  },
  {
   "cell_type": "markdown",
   "metadata": {
    "slideshow": {
     "slide_type": "slide"
    }
   },
   "source": [
    "## Décomposition sur une base\n",
    "\n",
    "Parfois, il est intéressant de représenter les signaux dans une autre base que la base canonique : on parle alors de _décomposition_ ou de _projection_ d'un signal $x$ sur une base.\n",
    "La transformée de Fourier peut être vue comme la décomposition de signaux dans une autre base.\n",
    "De même, les techniques de compression (audio, image ou vidéo) utilisent astucieusement une décomposition dans une base particulière pour réduire le poids des données.\n",
    "Les coefficients du signal dans cette nouvelle base vont donc être différent des coefficients de la base canonique.\n",
    "\n",
    "La décomposition d'un signal $x$ de taille $N$ dans une base orthonormée $\\{\\varphi_k\\}$, et donc le calcul des nouveaux coefficients $\\alpha_k$, s'obtient en calculant le produit scalaire de $x$ avec chaque élément $\\varphi_k$ de la base :\n",
    "\n",
    "$$\n",
    "  \\forall k \\in \\{0,\\dots,N-1\\},\\quad\n",
    "  \\alpha_k = \\langle x, \\varphi_k \\rangle.\n",
    "$$\n",
    "\n",
    "La _reconstruction_ du signal $x$ consiste à réécrire le signal dans la base canonique depuis la base $\\{\\varphi_k\\}$. Pour cela, le signal $x$ s'obtient par la somme des éléments de la base $\\varphi_k$ pondérés par les coefficients $\\alpha_k$ :\n",
    "\n",
    "$$\n",
    "  x = \\sum_{k=0}^{N-1} \\alpha_k \\varphi_k.\n",
    "$$"
   ]
  }
 ],
 "metadata": {
  "kernelspec": {
   "display_name": "Python 3",
   "language": "python",
   "name": "python3"
  },
  "language_info": {
   "codemirror_mode": {
    "name": "ipython",
    "version": 3
   },
   "file_extension": ".py",
   "mimetype": "text/x-python",
   "name": "python",
   "nbconvert_exporter": "python",
   "pygments_lexer": "ipython3",
   "version": "3.7.2"
  },
  "widgets": {
   "application/vnd.jupyter.widget-state+json": {
    "state": {},
    "version_major": 2,
    "version_minor": 0
   }
  }
 },
 "nbformat": 4,
 "nbformat_minor": 4
}
