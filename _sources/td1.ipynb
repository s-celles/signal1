{
 "cells": [
  {
   "cell_type": "markdown",
   "metadata": {},
   "source": [
    "# TD du 14/10/2020\n",
    "\n",
    "\n",
    "## Python\n",
    "\n",
    "* Retour sur les devoirs : avez-vous réussi à installer et utiliser Python ?\n",
    "\n",
    "## Classification des signaux\n",
    "\n",
    "* Retour sur les devoirs : échanges autour des résultats de l'auto-évaluation et du tableau à compléter.\n",
    "\n",
    "* Placez dans le tableau les signaux suivants :\n",
    "  - un signal acoustique dans l'air, en fonction du temps\n",
    "  - l'enregistrement du nombre de personnes atteintes d'une maladie en fonction du temps\n",
    "  - le nombre d'étudiants dans une classe en fonction du temps\n",
    "  - l'heure du lever de soleil tous les jours\n",
    "\n",
    "\n",
    "## Signaux élémentaires\n",
    "\n",
    "* Retour sur les devoirs : échanges autour des résultats de l'auto-évaluation.\n",
    "\n",
    "* Tracez à la main les signaux suivants :\n",
    "\n",
    "$$\n",
    "  \\frac{1}{2} \\mathrm{sinc}\\left(\\frac{t}{2}\\right),\\qquad\n",
    "  \\sin(\\pi n),\\qquad\n",
    "  \\mathrm{rect}\\left(\\frac{n}{4}-\\frac{1}{2}\\right) - \\delta[n-2]\n",
    "$$\n",
    "\n",
    "\n",
    "## Propriétés des signaux\n",
    "\n",
    "* Retour sur les devoirs : échanges autour des résultats de l'auto-évaluation.\n",
    "\n",
    "\n",
    "## Énergie et puissance\n",
    "\n",
    "* Retour sur les devoirs : échanges autour des résultats de l'auto-évaluation.\n",
    "\n",
    "* Calculez la puissance et l'énergie des signaux suivants :\n",
    "\n",
    "$$\n",
    "  x(t) = e^{-2t} u(t),\\qquad\n",
    "  y[n] = \\frac{1}{2^n} u[n].\n",
    "$$"
   ]
  }
 ],
 "metadata": {
  "kernelspec": {
   "display_name": "Python 3",
   "language": "python",
   "name": "python3"
  },
  "language_info": {
   "codemirror_mode": {
    "name": "ipython",
    "version": 3
   },
   "file_extension": ".py",
   "mimetype": "text/x-python",
   "name": "python",
   "nbconvert_exporter": "python",
   "pygments_lexer": "ipython3",
   "version": "3.7.3"
  }
 },
 "nbformat": 4,
 "nbformat_minor": 4
}
